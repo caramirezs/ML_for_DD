{
 "cells": [
  {
   "cell_type": "code",
   "execution_count": 3,
   "outputs": [],
   "source": [
    "from lib.main_func_p1 import timer, path\n",
    "import pandas as pd\n",
    "from importlib import reload\n",
    "from collections import OrderedDict\n",
    "import lib.main_func_p4\n",
    "from lib.main_func_p4 import modelXGBoost_fit_scores\n",
    "import os\n",
    "\n",
    "#XGBoost library\n",
    "import xgboost as xgb"
   ],
   "metadata": {
    "collapsed": false,
    "pycharm": {
     "name": "#%%\n"
    }
   }
  },
  {
   "cell_type": "code",
   "execution_count": 4,
   "outputs": [
    {
     "data": {
      "text/plain": "['P22303_20220621111120_top_scores_XGBClassifier_accuracy_rf0.xlsx',\n 'P22303_20220621114435_top_scores_XGBClassifier_precision_rf0.xlsx',\n 'P22303_20220621124638_top_scores_XGBClassifier_balanced_accuracy_rf0.xlsx',\n 'P22303_20220621133849_top_scores_XGBClassifier_jaccard_rf0.xlsx',\n 'P22303_20220621140847_top_scores_XGBClassifier_f1_weighted_rf0.xlsx']"
     },
     "execution_count": 4,
     "metadata": {},
     "output_type": "execute_result"
    }
   ],
   "source": [
    "#####################################\n",
    "# proteina (uniprot_ID)\n",
    "uniprot_id = 'P22303'\n",
    "path_file = path(uniprot_id)\n",
    "# Parametros\n",
    "seed = 142854\n",
    "fp_name = 'morgan2_c'\n",
    "\n",
    "# Lista de resultados BayesSearchCV\n",
    "results_list =  os.listdir(f'./top_scores/{uniprot_id}')\n",
    "results_list"
   ],
   "metadata": {
    "collapsed": false,
    "pycharm": {
     "name": "#%%\n"
    }
   }
  },
  {
   "cell_type": "code",
   "execution_count": 23,
   "outputs": [
    {
     "name": "stdout",
     "output_type": "stream",
     "text": [
      "./top_scores/P22303/P22303_20220621111120_top_scores_XGBClassifier_accuracy_rf0.xlsx\n",
      "model_accuracy\n",
      "1/9. AUC_score=(train=0.996, valid=0.965). Time elapsed: 3.9 seconds.\n",
      "2/9. AUC_score=(train=0.995, valid=0.96). Time elapsed: 3.2 seconds.\n",
      "3/9. AUC_score=(train=0.994, valid=0.961). Time elapsed: 3.2 seconds.\n",
      "4/9. AUC_score=(train=0.995, valid=0.964). Time elapsed: 3.0 seconds.\n",
      "5/9. AUC_score=(train=0.995, valid=0.963). Time elapsed: 3.3 seconds.\n",
      "6/9. AUC_score=(train=0.994, valid=0.96). Time elapsed: 3.4 seconds.\n",
      "7/9. AUC_score=(train=0.994, valid=0.96). Time elapsed: 3.4 seconds.\n",
      "8/9. AUC_score=(train=0.995, valid=0.961). Time elapsed: 3.2 seconds.\n",
      "9/9. AUC_score=(train=0.995, valid=0.961). Time elapsed: 3.6 seconds.\n",
      "./top_scores/P22303/P22303_20220621114435_top_scores_XGBClassifier_precision_rf0.xlsx\n",
      "model_precision\n",
      "1/9. AUC_score=(train=0.994, valid=0.961). Time elapsed: 5.2 seconds.\n",
      "2/9. AUC_score=(train=0.994, valid=0.962). Time elapsed: 5.0 seconds.\n",
      "3/9. AUC_score=(train=0.994, valid=0.961). Time elapsed: 4.8 seconds.\n",
      "4/9. AUC_score=(train=0.993, valid=0.96). Time elapsed: 3.1 seconds.\n",
      "5/9. AUC_score=(train=0.994, valid=0.964). Time elapsed: 4.7 seconds.\n",
      "6/9. AUC_score=(train=0.993, valid=0.961). Time elapsed: 5.0 seconds.\n",
      "7/9. AUC_score=(train=0.994, valid=0.963). Time elapsed: 5.0 seconds.\n",
      "8/9. AUC_score=(train=0.993, valid=0.961). Time elapsed: 4.8 seconds.\n",
      "9/9. AUC_score=(train=0.993, valid=0.962). Time elapsed: 4.9 seconds.\n",
      "./top_scores/P22303/P22303_20220621124638_top_scores_XGBClassifier_balanced_accuracy_rf0.xlsx\n",
      "model_balanced_accuracy\n",
      "1/9. AUC_score=(train=0.997, valid=0.965). Time elapsed: 4.3 seconds.\n",
      "2/9. AUC_score=(train=0.996, valid=0.962). Time elapsed: 4.7 seconds.\n",
      "3/9. AUC_score=(train=0.996, valid=0.96). Time elapsed: 4.3 seconds.\n",
      "4/9. AUC_score=(train=0.996, valid=0.961). Time elapsed: 3.6 seconds.\n",
      "5/9. AUC_score=(train=0.996, valid=0.965). Time elapsed: 3.7 seconds.\n",
      "6/9. AUC_score=(train=0.996, valid=0.965). Time elapsed: 4.7 seconds.\n",
      "7/9. AUC_score=(train=0.996, valid=0.96). Time elapsed: 4.4 seconds.\n",
      "8/9. AUC_score=(train=0.996, valid=0.96). Time elapsed: 4.6 seconds.\n",
      "9/9. AUC_score=(train=0.995, valid=0.962). Time elapsed: 4.1 seconds.\n",
      "./top_scores/P22303/P22303_20220621133849_top_scores_XGBClassifier_jaccard_rf0.xlsx\n",
      "model_jaccard\n",
      "1/9. AUC_score=(train=0.996, valid=0.962). Time elapsed: 3.3 seconds.\n",
      "2/9. AUC_score=(train=0.996, valid=0.963). Time elapsed: 4.0 seconds.\n",
      "3/9. AUC_score=(train=0.995, valid=0.961). Time elapsed: 4.9 seconds.\n",
      "4/9. AUC_score=(train=0.996, valid=0.962). Time elapsed: 4.3 seconds.\n",
      "5/9. AUC_score=(train=0.996, valid=0.966). Time elapsed: 5.6 seconds.\n",
      "6/9. AUC_score=(train=0.995, valid=0.963). Time elapsed: 4.4 seconds.\n",
      "7/9. AUC_score=(train=0.996, valid=0.964). Time elapsed: 5.0 seconds.\n",
      "8/9. AUC_score=(train=0.995, valid=0.964). Time elapsed: 4.4 seconds.\n",
      "9/9. AUC_score=(train=0.995, valid=0.961). Time elapsed: 4.7 seconds.\n",
      "./top_scores/P22303/P22303_20220621140847_top_scores_XGBClassifier_f1_weighted_rf0.xlsx\n",
      "model_f1_weighted\n",
      "1/9. AUC_score=(train=0.997, valid=0.962). Time elapsed: 3.4 seconds.\n",
      "2/9. AUC_score=(train=0.996, valid=0.964). Time elapsed: 4.7 seconds.\n",
      "3/9. AUC_score=(train=0.996, valid=0.962). Time elapsed: 3.5 seconds.\n",
      "4/9. AUC_score=(train=0.996, valid=0.963). Time elapsed: 4.2 seconds.\n",
      "5/9. AUC_score=(train=0.996, valid=0.964). Time elapsed: 4.4 seconds.\n",
      "6/9. AUC_score=(train=0.996, valid=0.963). Time elapsed: 4.2 seconds.\n",
      "7/9. AUC_score=(train=0.995, valid=0.964). Time elapsed: 4.8 seconds.\n",
      "8/9. AUC_score=(train=0.996, valid=0.966). Time elapsed: 4.6 seconds.\n",
      "9/9. AUC_score=(train=0.996, valid=0.961). Time elapsed: 4.2 seconds.\n"
     ]
    }
   ],
   "source": [
    "# Load train and validation datasets\n",
    "df_train = pd.read_pickle(f'{path_file}_dataset_train')\n",
    "df_valid = pd.read_pickle(f'{path_file}_dataset_valid')\n",
    "\n",
    "# Cargar archivo / eliminar columnas innecesarias\n",
    "for name in results_list:\n",
    "\n",
    "    excel_name = f'./top_scores/{uniprot_id}/{name}'\n",
    "    metric_score = '_'.join(str.split(excel_name,'_')[6:-1])\n",
    "    print(excel_name)\n",
    "    print(f'model_{metric_score}')\n",
    "\n",
    "    result_len = 9\n",
    "    resample_factor = int(str.split(excel_name,'_')[-1][2:-5])\n",
    "    resample_mode = 'under_sampling'\n",
    "\n",
    "    df_ori = pd.read_excel(excel_name, sheet_name=0)\n",
    "    df_top_results = df_ori[['params_dict', 'AUC_train', 'AUC_valid']]\n",
    "    df_top_results = df_top_results.drop_duplicates()\n",
    "    df_top_results.head(5)\n",
    "\n",
    "    for i, params_dict in enumerate(df_top_results.params_dict.iloc[0:result_len]):\n",
    "        eval_metric = ['error', 'auc']\n",
    "        tick = timer()\n",
    "        params_dict = dict(eval(params_dict))\n",
    "        default_params_xgb = {'booster': 'gbtree', 'tree_method': 'gpu_hist',\n",
    "                              'objective':'binary:logistic', 'grow_policy': 'depthwise',\n",
    "                              'eval_metric': eval_metric, 'early_stopping_rounds':10}\n",
    "        params_dict.update(default_params_xgb)\n",
    "\n",
    "\n",
    "        xgb_clf = xgb.XGBClassifier(**params_dict)\n",
    "\n",
    "        # Train model and evaluating scores (train / validation)\n",
    "        xgb_clf, scores_train, scores_valid = modelXGBoost_fit_scores(xgb_clf, fp_name, df_train, df_valid,\n",
    "                                                                      resample_factor=resample_factor,\n",
    "                                                                      resample_mode=resample_mode)\n",
    "\n",
    "        xgb_clf.save_model(f'./models_test/{uniprot_id}/model_top_{metric_score}_{i+1}.ubj')\n",
    "\n",
    "        print(f'{i+1}/{result_len}. AUC_score=(train={scores_train[0]},'\n",
    "              f' valid={scores_valid[0]}). Time elapsed: {timer(tick)}')\n",
    "\n"
   ],
   "metadata": {
    "collapsed": false,
    "pycharm": {
     "name": "#%%\n"
    }
   }
  }
 ],
 "metadata": {
  "kernelspec": {
   "display_name": "Python 3",
   "language": "python",
   "name": "python3"
  },
  "language_info": {
   "codemirror_mode": {
    "name": "ipython",
    "version": 2
   },
   "file_extension": ".py",
   "mimetype": "text/x-python",
   "name": "python",
   "nbconvert_exporter": "python",
   "pygments_lexer": "ipython2",
   "version": "2.7.6"
  }
 },
 "nbformat": 4,
 "nbformat_minor": 0
}