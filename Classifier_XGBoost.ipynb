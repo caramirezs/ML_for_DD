{
 "cells": [
  {
   "cell_type": "markdown",
   "metadata": {
    "pycharm": {
     "name": "#%% md\n"
    }
   },
   "source": [
    "# XGBoost Classifier\n",
    "## Librerias y parametros inciales"
   ]
  },
  {
   "cell_type": "code",
   "execution_count": 6,
   "metadata": {
    "pycharm": {
     "name": "#%%\n"
    }
   },
   "outputs": [],
   "source": [
    "from lib.main_func_p1 import path, timer\n",
    "import lib.main_func_p4\n",
    "\n",
    "import numpy as np\n",
    "import pandas as pd\n",
    "import time\n",
    "# save the models\n",
    "import pickle\n",
    "\n",
    "from collections import OrderedDict\n",
    "from importlib import reload\n",
    "\n",
    "#XGBoost library\n",
    "import xgboost as xgb\n",
    "\n",
    "\n",
    "#classes for grid search and cross-validation, function for splitting data and evaluating models\n",
    "from sklearn.model_selection import GridSearchCV, RandomizedSearchCV,train_test_split\n",
    "from skopt import BayesSearchCV\n",
    "from sklearn.metrics import accuracy_score,f1_score,roc_auc_score,confusion_matrix,roc_curve"
   ]
  },
  {
   "cell_type": "code",
   "execution_count": 7,
   "metadata": {
    "pycharm": {
     "name": "#%%\n"
    }
   },
   "outputs": [],
   "source": [
    "#Escoger proteina (uniprot_ID) y el grupo al que pertenece\n",
    "uniprot_id = 'P00533'\n",
    "path_file = path(uniprot_id)\n",
    "\n",
    "# Parametros\n",
    "seed = 142857\n",
    "fp_name = 'morgan2_c'\n",
    "n_splits = 5"
   ]
  },
  {
   "cell_type": "markdown",
   "metadata": {
    "pycharm": {
     "name": "#%% md\n"
    }
   },
   "source": [
    "## Carga datos"
   ]
  },
  {
   "cell_type": "code",
   "execution_count": 8,
   "metadata": {
    "pycharm": {
     "name": "#%%\n"
    }
   },
   "outputs": [
    {
     "name": "stdout",
     "output_type": "stream",
     "text": [
      ">>> LOAD: P00533_dataset_test\n"
     ]
    }
   ],
   "source": [
    "df_unseen = pd.read_pickle(f'{path_file}_dataset_test')\n",
    "print(f'>>> LOAD: {uniprot_id}_dataset_test')\n",
    "X_unseen, y_unseen = df_unseen[fp_name].tolist(), df_unseen['activity'].tolist()"
   ]
  },
  {
   "cell_type": "markdown",
   "metadata": {
    "pycharm": {
     "name": "#%% md\n"
    }
   },
   "source": [
    "## Carga parámetros óptimos"
   ]
  },
  {
   "cell_type": "code",
   "execution_count": 9,
   "metadata": {
    "pycharm": {
     "name": "#%%\n"
    }
   },
   "outputs": [
    {
     "data": {
      "text/plain": [
       "{'alpha': 1.6,\n",
       " 'gamma': 1.5,\n",
       " 'lambda': 2.0,\n",
       " 'learning_rate': 0.2,\n",
       " 'max_depth': 9,\n",
       " 'min_child_weight': 1,\n",
       " 'subsample': 0.7,\n",
       " 'booster': 'gbtree',\n",
       " 'tree_method': 'gpu_hist',\n",
       " 'objective': 'binary:logistic',\n",
       " 'eval_metric': 'auc',\n",
       " 'grow_policy': 'depthwise'}"
      ]
     },
     "execution_count": 9,
     "metadata": {},
     "output_type": "execute_result"
    }
   ],
   "source": [
    "# list values of default parameters\n",
    "default_params_xgb = {'booster': 'gbtree', 'tree_method': 'gpu_hist',\n",
    "                      'objective':'binary:logistic', 'eval_metric': 'auc',\n",
    "                      'grow_policy': 'depthwise'}\n",
    "list_dict_opt = OrderedDict([('alpha', 1.6), ('gamma', 1.5), ('lambda', 2.0), ('learning_rate', 0.2), ('max_depth', 9), ('min_child_weight', 1), ('subsample', 0.7)])\n",
    "\n",
    "optimize_params_xgb = dict(list_dict_opt)\n",
    "# Update params\n",
    "optimize_params_xgb.update(default_params_xgb)\n",
    "optimize_params_xgb"
   ]
  },
  {
   "cell_type": "markdown",
   "metadata": {
    "pycharm": {
     "name": "#%% md\n"
    }
   },
   "source": [
    "## Construcción y verificación del modelo"
   ]
  },
  {
   "cell_type": "code",
   "execution_count": 10,
   "metadata": {
    "pycharm": {
     "name": "#%%\n"
    }
   },
   "outputs": [
    {
     "name": "stdout",
     "output_type": "stream",
     "text": [
      "Results XGBClassifier: \n",
      "-------------------------------------\n",
      "              precision    recall  f1-score   support\n",
      "\n",
      "         0.0       0.94      0.93      0.93       711\n",
      "         1.0       0.84      0.87      0.85       315\n",
      "\n",
      "    accuracy                           0.91      1026\n",
      "   macro avg       0.89      0.90      0.89      1026\n",
      "weighted avg       0.91      0.91      0.91      1026\n",
      "\n",
      "0 hours, 0 minutes, 13.8 seconds.\n"
     ]
    },
    {
     "data": {
      "text/html": [
       "<div>\n",
       "<style scoped>\n",
       "    .dataframe tbody tr th:only-of-type {\n",
       "        vertical-align: middle;\n",
       "    }\n",
       "\n",
       "    .dataframe tbody tr th {\n",
       "        vertical-align: top;\n",
       "    }\n",
       "\n",
       "    .dataframe thead th {\n",
       "        text-align: right;\n",
       "    }\n",
       "</style>\n",
       "<table border=\"1\" class=\"dataframe\">\n",
       "  <thead>\n",
       "    <tr style=\"text-align: right;\">\n",
       "      <th></th>\n",
       "      <th>Train</th>\n",
       "      <th>Test</th>\n",
       "    </tr>\n",
       "    <tr>\n",
       "      <th>Metric</th>\n",
       "      <th></th>\n",
       "      <th></th>\n",
       "    </tr>\n",
       "  </thead>\n",
       "  <tbody>\n",
       "    <tr>\n",
       "      <th>AUC</th>\n",
       "      <td>0.988605</td>\n",
       "      <td>0.95481</td>\n",
       "    </tr>\n",
       "    <tr>\n",
       "      <th>accuracy</th>\n",
       "      <td>0.952474</td>\n",
       "      <td>0.909357</td>\n",
       "    </tr>\n",
       "    <tr>\n",
       "      <th>sensitivity_(recall)</th>\n",
       "      <td>0.92387</td>\n",
       "      <td>0.92387</td>\n",
       "    </tr>\n",
       "    <tr>\n",
       "      <th>specificity</th>\n",
       "      <td>0.965165</td>\n",
       "      <td>0.926864</td>\n",
       "    </tr>\n",
       "    <tr>\n",
       "      <th>precision</th>\n",
       "      <td>0.921677</td>\n",
       "      <td>0.840491</td>\n",
       "    </tr>\n",
       "    <tr>\n",
       "      <th>f1_score</th>\n",
       "      <td>0.922772</td>\n",
       "      <td>0.854914</td>\n",
       "    </tr>\n",
       "    <tr>\n",
       "      <th>confusion_matrix</th>\n",
       "      <td>[[2743, 99], [96, 1165]]</td>\n",
       "      <td>[[659, 52], [41, 274]]</td>\n",
       "    </tr>\n",
       "  </tbody>\n",
       "</table>\n",
       "</div>"
      ],
      "text/plain": [
       "                                         Train                    Test\n",
       "Metric                                                                \n",
       "AUC                                   0.988605                 0.95481\n",
       "accuracy                              0.952474                0.909357\n",
       "sensitivity_(recall)                   0.92387                 0.92387\n",
       "specificity                           0.965165                0.926864\n",
       "precision                             0.921677                0.840491\n",
       "f1_score                              0.922772                0.854914\n",
       "confusion_matrix      [[2743, 99], [96, 1165]]  [[659, 52], [41, 274]]"
      ]
     },
     "execution_count": 10,
     "metadata": {},
     "output_type": "execute_result"
    }
   ],
   "source": [
    "reload(lib.main_func_p4)\n",
    "from lib.main_func_p4 import model_clf\n",
    "# xgbc model\n",
    "\n",
    "tick = timer()\n",
    "xgbc_tuned = xgb.XGBClassifier()\n",
    "xgbc_tuned, df_results_model_tuned, results_ROC_fp = model_clf(xgbc_tuned, fp_name, uniprot_id,\n",
    "                                                        params_dict=optimize_params_xgb, seed=seed, n_splits=n_splits,\n",
    "                                                        save_log=True, resample_factor= 0, resample_mode='over_sampling')\n",
    "\n",
    "tock = timer(tick)\n",
    "df_results_model_tuned"
   ]
  },
  {
   "cell_type": "markdown",
   "metadata": {
    "pycharm": {
     "name": "#%% md\n"
    }
   },
   "source": [
    "### ROC curve"
   ]
  },
  {
   "cell_type": "code",
   "execution_count": 11,
   "metadata": {
    "pycharm": {
     "name": "#%%\n"
    }
   },
   "outputs": [
    {
     "name": "stdout",
     "output_type": "stream",
     "text": [
      "              precision    recall  f1-score   support\n",
      "\n",
      "         0.0       0.92      0.93      0.93       628\n",
      "         1.0       0.84      0.83      0.83       278\n",
      "\n",
      "    accuracy                           0.90       906\n",
      "   macro avg       0.88      0.88      0.88       906\n",
      "weighted avg       0.90      0.90      0.90       906\n",
      "\n"
     ]
    },
    {
     "data": {
      "image/png": "[encoded data removed]",
      "text/plain": [
       "<Figure size 720x720 with 1 Axes>"
      ]
     },
     "metadata": {
      "needs_background": "light"
     },
     "output_type": "display_data"
    }
   ],
   "source": [
    "from lib.main_func_p4 import plot_ROC_curve\n",
    "from sklearn.metrics import roc_curve, auc, classification_report\n",
    "\n",
    "# Calcular probabilidades del conjunto de datos sin usar\n",
    "pred_unseen = xgbc_tuned.predict(X_unseen)\n",
    "df_unseen['prediction'] = pred_unseen\n",
    "\n",
    "prediction_prob_unseen = np.array(xgbc_tuned.predict_proba(X_unseen)[:,1])\n",
    "df_unseen['prediction_prob'] = prediction_prob_unseen\n",
    "\n",
    "\n",
    "fpr_unseen, tpr_unseen, _ = roc_curve(y_unseen, prediction_prob_unseen)\n",
    "auc_score_unsee = auc(fpr_unseen, tpr_unseen)\n",
    "metrics_ROC_unseen = (fpr_unseen, tpr_unseen, auc_score_unsee)\n",
    "\n",
    "model_name = f'XGBoost_Clf'\n",
    "metrics_ROC = results_ROC_fp.copy()\n",
    "metrics_ROC.extend([metrics_ROC_unseen])\n",
    "metrics_ROC_name = ['train', 'test', 'unseen']\n",
    "\n",
    "print(classification_report(y_unseen, pred_unseen))\n",
    "plot_ROC_curve(metrics_ROC, metrics_ROC_name, model_name, path_file=path_file, save_fig=True)"
   ]
  },
  {
   "cell_type": "markdown",
   "metadata": {
    "pycharm": {
     "name": "#%% md\n"
    }
   },
   "source": [
    "### Calibration curve"
   ]
  },
  {
   "cell_type": "code",
   "execution_count": 12,
   "metadata": {
    "pycharm": {
     "name": "#%%\n"
    }
   },
   "outputs": [
    {
     "data": {
      "image/png": "[encoded data removed]",
      "text/plain": [
       "<Figure size 720x720 with 1 Axes>"
      ]
     },
     "metadata": {
      "needs_background": "light"
     },
     "output_type": "display_data"
    }
   ],
   "source": [
    "from lib.main_func_p4 import plot_calibration_curve\n",
    "\n",
    "# TODO: medir hyperparámetros r^2\n",
    "model_name = f'XGBoost_Clf (unseen)'\n",
    "plot_calibration_curve(df_unseen, model_name, path_file=path_file, save_fig=True)"
   ]
  },
  {
   "cell_type": "markdown",
   "metadata": {
    "pycharm": {
     "name": "#%% md\n"
    }
   },
   "source": [
    "### Guardar y exportar el modelo\n",
    "El modelo elegido se va a exportar y a utilizar con un conjunto de decoys y el conjunto de test."
   ]
  },
  {
   "cell_type": "code",
   "execution_count": 13,
   "metadata": {
    "pycharm": {
     "name": "#%%\n"
    }
   },
   "outputs": [
    {
     "name": "stdout",
     "output_type": "stream",
     "text": [
      "P00533_XGBoost_morgan2_c_model SAVED\n"
     ]
    }
   ],
   "source": [
    "with open(f'{path_file}_XGBoost_{fp_name}_model', 'wb') as f:\n",
    "    pickle.dump(xgbc_tuned, f)\n",
    "print(f'{uniprot_id}_XGBoost_{fp_name}_model SAVED')"
   ]
  },
  {
   "cell_type": "markdown",
   "metadata": {
    "pycharm": {
     "name": "#%% md\n"
    }
   },
   "source": [
    "## Uso del modelo\n",
    "\n",
    "### Carga del modelo\n",
    "\n",
    "Cargar el modelo de Random Forest entrenado en el paso anterior.\n",
    "Imprimir los hyper parámentros"
   ]
  },
  {
   "cell_type": "code",
   "execution_count": 32,
   "metadata": {
    "pycharm": {
     "name": "#%%\n"
    }
   },
   "outputs": [
    {
     "name": "stdout",
     "output_type": "stream",
     "text": [
      "P00533_XGBoost_morgan2_c_model LOAD\n",
      "Hyper parámetros : \n",
      " {'objective': 'binary:logistic', 'use_label_encoder': False, 'base_score': 0.5, 'booster': 'gbtree', 'callbacks': None, 'colsample_bylevel': 1, 'colsample_bynode': 1, 'colsample_bytree': 1, 'early_stopping_rounds': None, 'enable_categorical': False, 'eval_metric': 'auc', 'gamma': 1.5, 'gpu_id': 0, 'grow_policy': 'depthwise', 'importance_type': None, 'interaction_constraints': '', 'learning_rate': 0.2, 'max_bin': 256, 'max_cat_to_onehot': 4, 'max_delta_step': 0, 'max_depth': 9, 'max_leaves': 0, 'min_child_weight': 1, 'missing': nan, 'monotone_constraints': '()', 'n_estimators': 100, 'n_jobs': 0, 'num_parallel_tree': 1, 'predictor': 'auto', 'random_state': 0, 'reg_alpha': 1.60000002, 'reg_lambda': 2, 'sampling_method': 'uniform', 'scale_pos_weight': 1, 'subsample': 0.7, 'tree_method': 'gpu_hist', 'validate_parameters': 1, 'verbosity': None, 'alpha': 1.6, 'lambda': 2.0}\n"
     ]
    }
   ],
   "source": [
    "with open(f'{path_file}_XGBoost_{fp_name}_model', 'rb') as f:\n",
    "    xgbc_tuned = pickle.load(f)\n",
    "print(f'{uniprot_id}_XGBoost_{fp_name}_model LOAD')\n",
    "print('Hyper parámetros : \\n', xgbc_tuned.get_params())"
   ]
  },
  {
   "cell_type": "markdown",
   "metadata": {
    "pycharm": {
     "name": "#%% md\n"
    }
   },
   "source": [
    "### Carga del conjunto de prueba"
   ]
  },
  {
   "cell_type": "code",
   "execution_count": 33,
   "metadata": {
    "pycharm": {
     "name": "#%%\n"
    }
   },
   "outputs": [
    {
     "name": "stdout",
     "output_type": "stream",
     "text": [
      "Datos iniciales: (906, 5)\n",
      "Submuestreo 1:1\n",
      "(556, 5)\n",
      "1.0    278\n",
      "0.0    278\n",
      "Name: activity, dtype: int64\n"
     ]
    },
    {
     "data": {
      "text/html": [
       "<div>\n",
       "<style scoped>\n",
       "    .dataframe tbody tr th:only-of-type {\n",
       "        vertical-align: middle;\n",
       "    }\n",
       "\n",
       "    .dataframe tbody tr th {\n",
       "        vertical-align: top;\n",
       "    }\n",
       "\n",
       "    .dataframe thead th {\n",
       "        text-align: right;\n",
       "    }\n",
       "</style>\n",
       "<table border=\"1\" class=\"dataframe\">\n",
       "  <thead>\n",
       "    <tr style=\"text-align: right;\">\n",
       "      <th></th>\n",
       "      <th>type</th>\n",
       "      <th>morgan2_c</th>\n",
       "      <th>activity</th>\n",
       "      <th>prediction</th>\n",
       "      <th>prediction_prob</th>\n",
       "    </tr>\n",
       "  </thead>\n",
       "  <tbody>\n",
       "    <tr>\n",
       "      <th>0</th>\n",
       "      <td>unseen_active</td>\n",
       "      <td>[0, 0, 0, 0, 0, 0, 0, 0, 0, 0, 0, 0, 0, 0, 0, ...</td>\n",
       "      <td>1.0</td>\n",
       "      <td>1</td>\n",
       "      <td>0.971569</td>\n",
       "    </tr>\n",
       "    <tr>\n",
       "      <th>1</th>\n",
       "      <td>unseen_inactive</td>\n",
       "      <td>[0, 0, 0, 0, 0, 0, 0, 0, 0, 0, 0, 0, 0, 0, 0, ...</td>\n",
       "      <td>0.0</td>\n",
       "      <td>0</td>\n",
       "      <td>0.178258</td>\n",
       "    </tr>\n",
       "    <tr>\n",
       "      <th>2</th>\n",
       "      <td>unseen_active</td>\n",
       "      <td>[0, 0, 0, 0, 0, 0, 0, 0, 0, 0, 0, 0, 0, 0, 1, ...</td>\n",
       "      <td>1.0</td>\n",
       "      <td>1</td>\n",
       "      <td>0.682923</td>\n",
       "    </tr>\n",
       "    <tr>\n",
       "      <th>3</th>\n",
       "      <td>unseen_inactive</td>\n",
       "      <td>[0, 0, 0, 0, 0, 0, 0, 0, 0, 0, 0, 0, 0, 0, 0, ...</td>\n",
       "      <td>0.0</td>\n",
       "      <td>0</td>\n",
       "      <td>0.012911</td>\n",
       "    </tr>\n",
       "    <tr>\n",
       "      <th>4</th>\n",
       "      <td>unseen_active</td>\n",
       "      <td>[0, 0, 0, 0, 0, 0, 0, 0, 0, 0, 0, 0, 0, 0, 1, ...</td>\n",
       "      <td>1.0</td>\n",
       "      <td>0</td>\n",
       "      <td>0.138833</td>\n",
       "    </tr>\n",
       "  </tbody>\n",
       "</table>\n",
       "</div>"
      ],
      "text/plain": [
       "              type                                          morgan2_c  \\\n",
       "0    unseen_active  [0, 0, 0, 0, 0, 0, 0, 0, 0, 0, 0, 0, 0, 0, 0, ...   \n",
       "1  unseen_inactive  [0, 0, 0, 0, 0, 0, 0, 0, 0, 0, 0, 0, 0, 0, 0, ...   \n",
       "2    unseen_active  [0, 0, 0, 0, 0, 0, 0, 0, 0, 0, 0, 0, 0, 0, 1, ...   \n",
       "3  unseen_inactive  [0, 0, 0, 0, 0, 0, 0, 0, 0, 0, 0, 0, 0, 0, 0, ...   \n",
       "4    unseen_active  [0, 0, 0, 0, 0, 0, 0, 0, 0, 0, 0, 0, 0, 0, 1, ...   \n",
       "\n",
       "   activity  prediction  prediction_prob  \n",
       "0       1.0           1         0.971569  \n",
       "1       0.0           0         0.178258  \n",
       "2       1.0           1         0.682923  \n",
       "3       0.0           0         0.012911  \n",
       "4       1.0           0         0.138833  "
      ]
     },
     "execution_count": 33,
     "metadata": {},
     "output_type": "execute_result"
    }
   ],
   "source": [
    "from lib.main_func_p4 import resampling_set\n",
    "print(f'Datos iniciales: {df_unseen.shape}')\n",
    "print('Submuestreo 1:1')\n",
    "# resample 1:1\n",
    "df_unseen_rsmpl = resampling_set(df_unseen, mode='under_sampling', ratio=1)\n",
    "\n",
    "df_unseen_rsmpl['type'] = 'unseen_inactive'\n",
    "df_unseen_rsmpl.loc[df_unseen_rsmpl[df_unseen_rsmpl.activity == 1.0].index, 'type'] = 'unseen_active'\n",
    "df_unseen_rsmpl.reset_index(drop=True, inplace=True)\n",
    "\n",
    "df_unseen_rsmpl = df_unseen_rsmpl[['type', fp_name, 'activity', 'prediction', 'prediction_prob']]\n",
    "print(df_unseen_rsmpl.shape)\n",
    "print(df_unseen_rsmpl.activity.value_counts())\n",
    "df_unseen_rsmpl.head()"
   ]
  },
  {
   "cell_type": "markdown",
   "metadata": {
    "pycharm": {
     "name": "#%% md\n"
    }
   },
   "source": [
    "### Carga y preparación de los decoys\n",
    "El archivo {uniprot_id}_all_smiles.ism contiene la lista de decoys del target.\n",
    "Se carga el archivo y se convierte en un data set, por ahora solo contiene el SMILE.\n",
    "Se escoge aleatoriamente una muestra con la misma cantidad de compuestos activos / inactivos (1:1:1)"
   ]
  },
  {
   "cell_type": "code",
   "execution_count": 34,
   "metadata": {
    "pycharm": {
     "name": "#%%\n"
    }
   },
   "outputs": [
    {
     "name": "stdout",
     "output_type": "stream",
     "text": [
      "Decoys iniciales: (35050, 2)\n",
      "Decoys conjunto muestra: 453\n"
     ]
    },
    {
     "data": {
      "text/html": [
       "<div>\n",
       "<style scoped>\n",
       "    .dataframe tbody tr th:only-of-type {\n",
       "        vertical-align: middle;\n",
       "    }\n",
       "\n",
       "    .dataframe tbody tr th {\n",
       "        vertical-align: top;\n",
       "    }\n",
       "\n",
       "    .dataframe thead th {\n",
       "        text-align: right;\n",
       "    }\n",
       "</style>\n",
       "<table border=\"1\" class=\"dataframe\">\n",
       "  <thead>\n",
       "    <tr style=\"text-align: right;\">\n",
       "      <th></th>\n",
       "      <th>smiles</th>\n",
       "      <th>id</th>\n",
       "    </tr>\n",
       "  </thead>\n",
       "  <tbody>\n",
       "    <tr>\n",
       "      <th>0</th>\n",
       "      <td>CCN(c1ccccc1)C(=O)c2c(c\\3c(o2)CCC/C3=N\\NC(=O)C...</td>\n",
       "      <td>C40826754</td>\n",
       "    </tr>\n",
       "    <tr>\n",
       "      <th>1</th>\n",
       "      <td>Cc1c(sc(n1)N2[C@H](c3c(=O)c4cc(ccc4oc3C2=O)Cl)...</td>\n",
       "      <td>C35514101</td>\n",
       "    </tr>\n",
       "    <tr>\n",
       "      <th>2</th>\n",
       "      <td>C1CCC(C1)(CNC(=O)N2CCC(CC2)C(=O)NC3CC3)[NH+]4C...</td>\n",
       "      <td>C56878242</td>\n",
       "    </tr>\n",
       "    <tr>\n",
       "      <th>3</th>\n",
       "      <td>C[C@H]1CCCC[C@@H]1NC(=O)CSc2nnc3n2c4ccccc4c(=O...</td>\n",
       "      <td>C10058402</td>\n",
       "    </tr>\n",
       "    <tr>\n",
       "      <th>4</th>\n",
       "      <td>CCC[NH+](Cc1ncc(o1)c2cccs2)CC3CC3</td>\n",
       "      <td>C67427773</td>\n",
       "    </tr>\n",
       "  </tbody>\n",
       "</table>\n",
       "</div>"
      ],
      "text/plain": [
       "                                              smiles         id\n",
       "0  CCN(c1ccccc1)C(=O)c2c(c\\3c(o2)CCC/C3=N\\NC(=O)C...  C40826754\n",
       "1  Cc1c(sc(n1)N2[C@H](c3c(=O)c4cc(ccc4oc3C2=O)Cl)...  C35514101\n",
       "2  C1CCC(C1)(CNC(=O)N2CCC(CC2)C(=O)NC3CC3)[NH+]4C...  C56878242\n",
       "3  C[C@H]1CCCC[C@@H]1NC(=O)CSc2nnc3n2c4ccccc4c(=O...  C10058402\n",
       "4                  CCC[NH+](Cc1ncc(o1)c2cccs2)CC3CC3  C67427773"
      ]
     },
     "execution_count": 34,
     "metadata": {},
     "output_type": "execute_result"
    }
   ],
   "source": [
    "df_decoys = pd.DataFrame(columns=['smiles'])\n",
    "list_d = list()\n",
    "decoys_len = int(len(df_unseen)/2)\n",
    "with open(f'data/_decoys/{uniprot_id}_all_smiles.ism', 'rb') as f:\n",
    "    decoys_line = f.readlines()\n",
    "    for line in decoys_line[1:]: #la primera linea es header\n",
    "        line = line.decode('UTF-8').split()\n",
    "        list_d.append(line)\n",
    "df_decoys = pd.DataFrame(list_d, columns=['smiles', 'id'])\n",
    "\n",
    "print(f'Decoys iniciales: {df_decoys.shape}')\n",
    "# OPC 1: Escoger una cantidad igual al conjunto de prueba\n",
    "df_decoys = df_decoys.sample(n=decoys_len, ignore_index=True, random_state=seed)\n",
    "\n",
    "# OPC 2: Trabajar con un porcentaje\n",
    "# df_decoys = df_decoys.sample(frac=0.5, ignore_index=True, random_state=seed)\n",
    "\n",
    "print(f'Decoys conjunto muestra: {len(df_decoys)}')\n",
    "df_decoys.head()"
   ]
  },
  {
   "cell_type": "markdown",
   "metadata": {
    "pycharm": {
     "name": "#%% md\n"
    }
   },
   "source": [
    "Encontrar el fingerprint de cada decoy a partir del SMILE."
   ]
  },
  {
   "cell_type": "code",
   "execution_count": 35,
   "metadata": {
    "pycharm": {
     "name": "#%%\n"
    }
   },
   "outputs": [
    {
     "data": {
      "text/html": [
       "<div>\n",
       "<style scoped>\n",
       "    .dataframe tbody tr th:only-of-type {\n",
       "        vertical-align: middle;\n",
       "    }\n",
       "\n",
       "    .dataframe tbody tr th {\n",
       "        vertical-align: top;\n",
       "    }\n",
       "\n",
       "    .dataframe thead th {\n",
       "        text-align: right;\n",
       "    }\n",
       "</style>\n",
       "<table border=\"1\" class=\"dataframe\">\n",
       "  <thead>\n",
       "    <tr style=\"text-align: right;\">\n",
       "      <th></th>\n",
       "      <th>type</th>\n",
       "      <th>morgan2_c</th>\n",
       "    </tr>\n",
       "  </thead>\n",
       "  <tbody>\n",
       "    <tr>\n",
       "      <th>0</th>\n",
       "      <td>decoy</td>\n",
       "      <td>[0, 0, 0, 0, 0, 0, 0, 0, 0, 0, 0, 0, 0, 0, 0, ...</td>\n",
       "    </tr>\n",
       "    <tr>\n",
       "      <th>1</th>\n",
       "      <td>decoy</td>\n",
       "      <td>[0, 1, 0, 0, 0, 0, 0, 0, 0, 0, 0, 0, 0, 1, 0, ...</td>\n",
       "    </tr>\n",
       "    <tr>\n",
       "      <th>2</th>\n",
       "      <td>decoy</td>\n",
       "      <td>[0, 0, 0, 0, 0, 0, 0, 0, 0, 1, 0, 0, 0, 0, 0, ...</td>\n",
       "    </tr>\n",
       "    <tr>\n",
       "      <th>3</th>\n",
       "      <td>decoy</td>\n",
       "      <td>[0, 1, 0, 0, 0, 0, 0, 0, 0, 0, 0, 0, 0, 0, 0, ...</td>\n",
       "    </tr>\n",
       "    <tr>\n",
       "      <th>4</th>\n",
       "      <td>decoy</td>\n",
       "      <td>[0, 0, 0, 0, 0, 0, 0, 0, 0, 0, 0, 0, 0, 0, 1, ...</td>\n",
       "    </tr>\n",
       "  </tbody>\n",
       "</table>\n",
       "</div>"
      ],
      "text/plain": [
       "    type                                          morgan2_c\n",
       "0  decoy  [0, 0, 0, 0, 0, 0, 0, 0, 0, 0, 0, 0, 0, 0, 0, ...\n",
       "1  decoy  [0, 1, 0, 0, 0, 0, 0, 0, 0, 0, 0, 0, 0, 1, 0, ...\n",
       "2  decoy  [0, 0, 0, 0, 0, 0, 0, 0, 0, 1, 0, 0, 0, 0, 0, ...\n",
       "3  decoy  [0, 1, 0, 0, 0, 0, 0, 0, 0, 0, 0, 0, 0, 0, 0, ...\n",
       "4  decoy  [0, 0, 0, 0, 0, 0, 0, 0, 0, 0, 0, 0, 0, 0, 1, ..."
      ]
     },
     "execution_count": 35,
     "metadata": {},
     "output_type": "execute_result"
    }
   ],
   "source": [
    "reload(lib.main_func_p3)\n",
    "from lib.main_func_p3 import calculate_onefp\n",
    "\n",
    "calculate_onefp(df_decoys, fp_name)\n",
    "df_decoys.drop_duplicates(subset=['smiles'], inplace=True)\n",
    "df_decoys.reset_index(inplace=True, drop=True)\n",
    "df_decoys = df_decoys.drop(['mol'], axis=1)\n",
    "df_decoys = df_decoys.drop(['smiles'], axis=1)\n",
    "df_decoys['type'] = 'decoy'\n",
    "df_decoys = df_decoys[['type', fp_name]]\n",
    "df_decoys.head()"
   ]
  },
  {
   "cell_type": "markdown",
   "metadata": {
    "pycharm": {
     "name": "#%% md\n"
    }
   },
   "source": [
    "### Predicciones\n",
    "\n",
    "Con el modelo cargado, clasificar cada compuesto del conjunto decoys en activo: 1.0 o inactivo 0.0"
   ]
  },
  {
   "cell_type": "code",
   "execution_count": 36,
   "metadata": {
    "pycharm": {
     "name": "#%%\n"
    }
   },
   "outputs": [
    {
     "data": {
      "text/plain": [
       "0    453\n",
       "Name: prediction, dtype: int64"
      ]
     },
     "execution_count": 36,
     "metadata": {},
     "output_type": "execute_result"
    }
   ],
   "source": [
    "x_decoy = df_decoys[fp_name].tolist()\n",
    "pred_decoy = xgbc_tuned.predict(x_decoy)\n",
    "prediction_prob = xgbc_tuned.predict_proba(x_decoy)[:,1]\n",
    "prediction_prob = np.array(prediction_prob)\n",
    "df_decoys['activity'] = 0.0\n",
    "df_decoys['prediction'] = pred_decoy\n",
    "df_decoys['prediction_prob'] = prediction_prob\n",
    "df_decoys.prediction.value_counts()"
   ]
  },
  {
   "cell_type": "code",
   "execution_count": 37,
   "metadata": {
    "pycharm": {
     "name": "#%%\n"
    }
   },
   "outputs": [
    {
     "name": "stdout",
     "output_type": "stream",
     "text": [
      "decoy              453\n",
      "unseen_active      278\n",
      "unseen_inactive    278\n",
      "Name: type, dtype: int64\n"
     ]
    },
    {
     "data": {
      "text/html": [
       "<div>\n",
       "<style scoped>\n",
       "    .dataframe tbody tr th:only-of-type {\n",
       "        vertical-align: middle;\n",
       "    }\n",
       "\n",
       "    .dataframe tbody tr th {\n",
       "        vertical-align: top;\n",
       "    }\n",
       "\n",
       "    .dataframe thead th {\n",
       "        text-align: right;\n",
       "    }\n",
       "</style>\n",
       "<table border=\"1\" class=\"dataframe\">\n",
       "  <thead>\n",
       "    <tr style=\"text-align: right;\">\n",
       "      <th></th>\n",
       "      <th>type</th>\n",
       "      <th>morgan2_c</th>\n",
       "      <th>activity</th>\n",
       "      <th>prediction</th>\n",
       "      <th>prediction_prob</th>\n",
       "    </tr>\n",
       "  </thead>\n",
       "  <tbody>\n",
       "    <tr>\n",
       "      <th>0</th>\n",
       "      <td>unseen_active</td>\n",
       "      <td>[0, 0, 0, 0, 0, 0, 0, 0, 0, 0, 0, 0, 0, 0, 0, ...</td>\n",
       "      <td>1.0</td>\n",
       "      <td>1</td>\n",
       "      <td>0.971569</td>\n",
       "    </tr>\n",
       "    <tr>\n",
       "      <th>1</th>\n",
       "      <td>unseen_inactive</td>\n",
       "      <td>[0, 0, 0, 0, 0, 0, 0, 0, 0, 0, 0, 0, 0, 0, 0, ...</td>\n",
       "      <td>0.0</td>\n",
       "      <td>0</td>\n",
       "      <td>0.178258</td>\n",
       "    </tr>\n",
       "    <tr>\n",
       "      <th>2</th>\n",
       "      <td>unseen_active</td>\n",
       "      <td>[0, 0, 0, 0, 0, 0, 0, 0, 0, 0, 0, 0, 0, 0, 1, ...</td>\n",
       "      <td>1.0</td>\n",
       "      <td>1</td>\n",
       "      <td>0.682923</td>\n",
       "    </tr>\n",
       "    <tr>\n",
       "      <th>3</th>\n",
       "      <td>unseen_inactive</td>\n",
       "      <td>[0, 0, 0, 0, 0, 0, 0, 0, 0, 0, 0, 0, 0, 0, 0, ...</td>\n",
       "      <td>0.0</td>\n",
       "      <td>0</td>\n",
       "      <td>0.012911</td>\n",
       "    </tr>\n",
       "    <tr>\n",
       "      <th>4</th>\n",
       "      <td>unseen_active</td>\n",
       "      <td>[0, 0, 0, 0, 0, 0, 0, 0, 0, 0, 0, 0, 0, 0, 1, ...</td>\n",
       "      <td>1.0</td>\n",
       "      <td>0</td>\n",
       "      <td>0.138833</td>\n",
       "    </tr>\n",
       "  </tbody>\n",
       "</table>\n",
       "</div>"
      ],
      "text/plain": [
       "              type                                          morgan2_c  \\\n",
       "0    unseen_active  [0, 0, 0, 0, 0, 0, 0, 0, 0, 0, 0, 0, 0, 0, 0, ...   \n",
       "1  unseen_inactive  [0, 0, 0, 0, 0, 0, 0, 0, 0, 0, 0, 0, 0, 0, 0, ...   \n",
       "2    unseen_active  [0, 0, 0, 0, 0, 0, 0, 0, 0, 0, 0, 0, 0, 0, 1, ...   \n",
       "3  unseen_inactive  [0, 0, 0, 0, 0, 0, 0, 0, 0, 0, 0, 0, 0, 0, 0, ...   \n",
       "4    unseen_active  [0, 0, 0, 0, 0, 0, 0, 0, 0, 0, 0, 0, 0, 0, 1, ...   \n",
       "\n",
       "   activity  prediction  prediction_prob  \n",
       "0       1.0           1         0.971569  \n",
       "1       0.0           0         0.178258  \n",
       "2       1.0           1         0.682923  \n",
       "3       0.0           0         0.012911  \n",
       "4       1.0           0         0.138833  "
      ]
     },
     "execution_count": 37,
     "metadata": {},
     "output_type": "execute_result"
    }
   ],
   "source": [
    "df = pd.concat([df_unseen_rsmpl, df_decoys], ignore_index=True)\n",
    "print(df.type.value_counts())\n",
    "df.head()"
   ]
  },
  {
   "cell_type": "code",
   "execution_count": 38,
   "metadata": {
    "pycharm": {
     "name": "#%%\n"
    }
   },
   "outputs": [
    {
     "data": {
      "text/plain": [
       "<Figure size 1080x1080 with 0 Axes>"
      ]
     },
     "metadata": {},
     "output_type": "display_data"
    },
    {
     "data": {
      "image/png": "[encoded data removed]",
      "text/plain": [
       "<Figure size 468.75x360 with 1 Axes>"
      ]
     },
     "metadata": {
      "needs_background": "light"
     },
     "output_type": "display_data"
    }
   ],
   "source": [
    "import matplotlib.pyplot as plt\n",
    "import seaborn as sns\n",
    "\n",
    "fig = plt.figure()\n",
    "fig.set_size_inches(15,15)\n",
    "ax = sns.displot(data=df, x='prediction_prob', hue=\"type\", kind=\"kde\", bw_adjust=.1, common_norm=False, hue_order=['unseen_active', 'unseen_inactive', 'decoy'])\n",
    "\n",
    "plt.axvline(x=0.5, ymax=0.95, color='k', linestyle='--')\n",
    "plt.axvspan(0, 0.5, ymax=0.95, facecolor='oldlace', alpha=0.8, zorder=-100)\n",
    "plt.axvspan(0.5, 1, ymax=0.95, facecolor='lightcyan', alpha=0.8, zorder=-100)\n",
    "\n",
    "plt.text(0.08, 0.88* plt.gca().get_ylim()[1], 'Inactive zone', fontsize=13, fontdict={\"weight\": \"bold\"})\n",
    "plt.text(0.6, 0.88* plt.gca().get_ylim()[1], 'Active zone', fontsize=13, fontdict={\"weight\": \"bold\"})\n",
    "plt.suptitle(f'{uniprot_id} compounds Active/Inactive probability',\n",
    "                  fontsize=16, fontdict={\"weight\": \"bold\"})\n",
    "plt.savefig(f'{path_file}_compounds_prob.png', dpi=300, bbox_inches='tight')\n",
    "plt.show()"
   ]
  },
  {
   "cell_type": "code",
   "execution_count": null,
   "metadata": {
    "pycharm": {
     "name": "#%%\n"
    }
   },
   "outputs": [],
   "source": [
    "from lib.main_func_p4 import plot_calibration_curve\n",
    "\n",
    "# TODO: medir hyperparámetros r^2\n",
    "model_name = f'XGBoost_Clf (unseen)'\n",
    "plot_calibration_curve(df, model_name, path_file=path_file, save_fig=False)"
   ]
  },
  {
   "cell_type": "code",
   "execution_count": null,
   "metadata": {
    "pycharm": {
     "name": "#%%\n"
    }
   },
   "outputs": [],
   "source": [
    "from sklearn import metrics\n",
    "print(sorted(metrics.SCORERS.keys()))"
   ]
  },
  {
   "cell_type": "markdown",
   "metadata": {
    "pycharm": {
     "name": "#%% md\n"
    }
   },
   "source": [
    "## Intermediate"
   ]
  },
  {
   "cell_type": "code",
   "execution_count": 26,
   "metadata": {
    "pycharm": {
     "name": "#%%\n"
    }
   },
   "outputs": [
    {
     "name": "stdout",
     "output_type": "stream",
     "text": [
      "No. intermediate compounds: 1282\n"
     ]
    }
   ],
   "source": [
    "ADME_df = pd.read_csv(f'{path_file}_02_ligands_smiles_ADME_lipinski.csv')\n",
    "df_int = ADME_df[ADME_df['activity_type']=='Intermediate']\n",
    "df_int = df_int[['chembl_id_ligand', 'smiles']]\n",
    "df_int.reset_index(drop=True, inplace=True)\n",
    "print(f'No. intermediate compounds: {len(df_int)}')"
   ]
  },
  {
   "cell_type": "code",
   "execution_count": 27,
   "metadata": {
    "pycharm": {
     "name": "#%%\n"
    }
   },
   "outputs": [
    {
     "data": {
      "text/html": [
       "<div>\n",
       "<style scoped>\n",
       "    .dataframe tbody tr th:only-of-type {\n",
       "        vertical-align: middle;\n",
       "    }\n",
       "\n",
       "    .dataframe tbody tr th {\n",
       "        vertical-align: top;\n",
       "    }\n",
       "\n",
       "    .dataframe thead th {\n",
       "        text-align: right;\n",
       "    }\n",
       "</style>\n",
       "<table border=\"1\" class=\"dataframe\">\n",
       "  <thead>\n",
       "    <tr style=\"text-align: right;\">\n",
       "      <th></th>\n",
       "      <th>type</th>\n",
       "      <th>morgan2_c</th>\n",
       "    </tr>\n",
       "  </thead>\n",
       "  <tbody>\n",
       "    <tr>\n",
       "      <th>0</th>\n",
       "      <td>intermediate</td>\n",
       "      <td>[0, 0, 0, 0, 0, 0, 0, 0, 0, 0, 0, 0, 0, 0, 0, ...</td>\n",
       "    </tr>\n",
       "    <tr>\n",
       "      <th>1</th>\n",
       "      <td>intermediate</td>\n",
       "      <td>[0, 0, 0, 0, 0, 0, 0, 0, 0, 0, 0, 0, 0, 0, 0, ...</td>\n",
       "    </tr>\n",
       "    <tr>\n",
       "      <th>2</th>\n",
       "      <td>intermediate</td>\n",
       "      <td>[0, 0, 0, 0, 0, 0, 0, 0, 0, 0, 0, 0, 0, 0, 0, ...</td>\n",
       "    </tr>\n",
       "    <tr>\n",
       "      <th>3</th>\n",
       "      <td>intermediate</td>\n",
       "      <td>[0, 0, 0, 0, 0, 0, 0, 0, 0, 0, 0, 0, 0, 0, 0, ...</td>\n",
       "    </tr>\n",
       "    <tr>\n",
       "      <th>4</th>\n",
       "      <td>intermediate</td>\n",
       "      <td>[0, 0, 0, 0, 0, 0, 0, 0, 0, 0, 0, 0, 0, 0, 0, ...</td>\n",
       "    </tr>\n",
       "  </tbody>\n",
       "</table>\n",
       "</div>"
      ],
      "text/plain": [
       "           type                                          morgan2_c\n",
       "0  intermediate  [0, 0, 0, 0, 0, 0, 0, 0, 0, 0, 0, 0, 0, 0, 0, ...\n",
       "1  intermediate  [0, 0, 0, 0, 0, 0, 0, 0, 0, 0, 0, 0, 0, 0, 0, ...\n",
       "2  intermediate  [0, 0, 0, 0, 0, 0, 0, 0, 0, 0, 0, 0, 0, 0, 0, ...\n",
       "3  intermediate  [0, 0, 0, 0, 0, 0, 0, 0, 0, 0, 0, 0, 0, 0, 0, ...\n",
       "4  intermediate  [0, 0, 0, 0, 0, 0, 0, 0, 0, 0, 0, 0, 0, 0, 0, ..."
      ]
     },
     "execution_count": 27,
     "metadata": {},
     "output_type": "execute_result"
    }
   ],
   "source": [
    "from lib.main_func_p3 import calculate_onefp\n",
    "\n",
    "calculate_onefp(df_int, fp_name)\n",
    "df_int.drop_duplicates(subset=['smiles'], inplace=True)\n",
    "df_int.reset_index(inplace=True, drop=True)\n",
    "df_int = df_int.drop(['mol'], axis=1)\n",
    "df_int = df_int.drop(['smiles'], axis=1)\n",
    "df_int['type'] = 'intermediate'\n",
    "df_int = df_int[['type', fp_name]]\n",
    "df_int.head()"
   ]
  },
  {
   "cell_type": "markdown",
   "metadata": {
    "pycharm": {
     "name": "#%% md\n"
    }
   },
   "source": [
    "### Predicciones"
   ]
  },
  {
   "cell_type": "code",
   "execution_count": 30,
   "metadata": {
    "pycharm": {
     "name": "#%%\n"
    }
   },
   "outputs": [
    {
     "data": {
      "text/plain": [
       "0    652\n",
       "1    630\n",
       "Name: prediction, dtype: int64"
      ]
     },
     "execution_count": 30,
     "metadata": {},
     "output_type": "execute_result"
    }
   ],
   "source": [
    "x_inter = df_int[fp_name].tolist()\n",
    "pred_inter = xgbc_tuned.predict(x_inter)\n",
    "prediction_prob = xgbc_tuned.predict_proba(x_inter)[:,1]\n",
    "prediction_prob = np.array(prediction_prob)\n",
    "df_int['activity'] = 0.0\n",
    "df_int['prediction'] = pred_inter\n",
    "df_int['prediction_prob'] = prediction_prob\n",
    "df_int.prediction.value_counts()"
   ]
  },
  {
   "cell_type": "code",
   "execution_count": 39,
   "metadata": {
    "pycharm": {
     "name": "#%%\n"
    }
   },
   "outputs": [
    {
     "data": {
      "text/plain": [
       "<Figure size 1080x1080 with 0 Axes>"
      ]
     },
     "metadata": {},
     "output_type": "display_data"
    },
    {
     "data": {
      "image/png": "[encoded data removed]",
      "text/plain": [
       "<Figure size 451.375x360 with 1 Axes>"
      ]
     },
     "metadata": {
      "needs_background": "light"
     },
     "output_type": "display_data"
    }
   ],
   "source": [
    "import matplotlib.pyplot as plt\n",
    "import seaborn as sns\n",
    "\n",
    "fig = plt.figure()\n",
    "fig.set_size_inches(15,15)\n",
    "ax = sns.displot(data=df_int, x='prediction_prob', hue=\"type\", kind=\"kde\", bw_adjust=.1, common_norm=False)\n",
    "\n",
    "plt.axvline(x=0.5, ymax=0.95, color='k', linestyle='--')\n",
    "plt.axvspan(0, 0.5, ymax=0.95, facecolor='oldlace', alpha=0.8, zorder=-100)\n",
    "plt.axvspan(0.5, 1, ymax=0.95, facecolor='lightcyan', alpha=0.8, zorder=-100)\n",
    "\n",
    "plt.text(0.08, 0.88* plt.gca().get_ylim()[1], 'Inactive zone', fontsize=13, fontdict={\"weight\": \"bold\"})\n",
    "plt.text(0.6, 0.88* plt.gca().get_ylim()[1], 'Active zone', fontsize=13, fontdict={\"weight\": \"bold\"})\n",
    "plt.suptitle(f'{uniprot_id} compounds Active/Inactive probability',\n",
    "                  fontsize=16, fontdict={\"weight\": \"bold\"})\n",
    "plt.savefig(f'{path_file}_compounds_prob.png', dpi=300, bbox_inches='tight')\n",
    "plt.show()"
   ]
  }
 ],
 "metadata": {
  "kernelspec": {
   "display_name": "Python 3 (ipykernel)",
   "language": "python",
   "name": "python3"
  },
  "language_info": {
   "codemirror_mode": {
    "name": "ipython",
    "version": 3
   },
   "file_extension": ".py",
   "mimetype": "text/x-python",
   "name": "python",
   "nbconvert_exporter": "python",
   "pygments_lexer": "ipython3",
   "version": "3.8.13"
  }
 },
 "nbformat": 4,
 "nbformat_minor": 1
}