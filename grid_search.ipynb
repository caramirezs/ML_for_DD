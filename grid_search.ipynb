{
 "cells": [
  {
   "cell_type": "code",
   "execution_count": 2,
   "metadata": {
    "collapsed": true
   },
   "outputs": [],
   "source": [
    "from lib.main_func_p1 import path\n",
    "import pandas as pd"
   ]
  },
  {
   "cell_type": "code",
   "execution_count": 50,
   "outputs": [],
   "source": [
    "uniprot_data = ['P49841', 'kinase']\n",
    "# uniprot_data = ['P22303', 'Non-IDG Family Targets']\n",
    "uniprot_id = uniprot_data[0]\n",
    "path_file = path(uniprot_id)"
   ],
   "metadata": {
    "collapsed": false,
    "pycharm": {
     "name": "#%%\n"
    }
   }
  },
  {
   "cell_type": "code",
   "execution_count": 51,
   "outputs": [],
   "source": [
    "fingerprint = 'maccs'\n",
    "n_splits = 5\n",
    "resample_factor = 2\n",
    "name_grid_file = f'{path_file}_RFgrid_{fingerprint}_s{n_splits}_r{resample_factor}.csv'\n",
    "\n",
    "df = pd.read_csv(name_grid_file)"
   ],
   "metadata": {
    "collapsed": false,
    "pycharm": {
     "name": "#%%\n"
    }
   }
  },
  {
   "cell_type": "code",
   "execution_count": 72,
   "outputs": [
    {
     "data": {
      "text/plain": "        auc_score_train  auc_score_test  accuracy_score_test  sens_score_test  \\\n102789         0.948871        0.916519             0.856749         0.752066   \n134043         0.949998        0.907981             0.851240         0.752066   \n121504         0.949997        0.911772             0.862259         0.768595   \n32896          0.949984        0.910030             0.856749         0.752066   \n37931          0.949977        0.909791             0.842975         0.768595   \n29227          0.949958        0.913616             0.865014         0.776860   \n71891          0.949955        0.911055             0.862259         0.760331   \n34496          0.949949        0.911789             0.853994         0.752066   \n92878          0.949949        0.909996             0.856749         0.752066   \n58370          0.949948        0.912079             0.859504         0.768595   \n\n        spec_score_test  prec_score_test  f1_score_test  \\\n102789         0.909091         0.805310       0.777778   \n134043         0.900826         0.791304       0.771186   \n121504         0.909091         0.808696       0.788136   \n32896          0.909091         0.805310       0.777778   \n37931          0.880165         0.762295       0.765432   \n29227          0.909091         0.810345       0.793249   \n71891          0.913223         0.814159       0.786325   \n34496          0.904959         0.798246       0.774468   \n92878          0.909091         0.805310       0.777778   \n58370          0.904959         0.801724       0.784810   \n\n             confusion_m_test  ratio  \n102789  [[220, 22], [30, 91]]   0.97  \n134043  [[218, 24], [30, 91]]   0.96  \n121504  [[220, 22], [28, 93]]   0.96  \n32896   [[220, 22], [30, 91]]   0.96  \n37931   [[213, 29], [28, 93]]   0.96  \n29227   [[220, 22], [27, 94]]   0.96  \n71891   [[221, 21], [29, 92]]   0.96  \n34496   [[219, 23], [30, 91]]   0.96  \n92878   [[220, 22], [30, 91]]   0.96  \n58370   [[219, 23], [28, 93]]   0.96  ",
      "text/html": "<div>\n<style scoped>\n    .dataframe tbody tr th:only-of-type {\n        vertical-align: middle;\n    }\n\n    .dataframe tbody tr th {\n        vertical-align: top;\n    }\n\n    .dataframe thead th {\n        text-align: right;\n    }\n</style>\n<table border=\"1\" class=\"dataframe\">\n  <thead>\n    <tr style=\"text-align: right;\">\n      <th></th>\n      <th>auc_score_train</th>\n      <th>auc_score_test</th>\n      <th>accuracy_score_test</th>\n      <th>sens_score_test</th>\n      <th>spec_score_test</th>\n      <th>prec_score_test</th>\n      <th>f1_score_test</th>\n      <th>confusion_m_test</th>\n      <th>ratio</th>\n    </tr>\n  </thead>\n  <tbody>\n    <tr>\n      <th>102789</th>\n      <td>0.948871</td>\n      <td>0.916519</td>\n      <td>0.856749</td>\n      <td>0.752066</td>\n      <td>0.909091</td>\n      <td>0.805310</td>\n      <td>0.777778</td>\n      <td>[[220, 22], [30, 91]]</td>\n      <td>0.97</td>\n    </tr>\n    <tr>\n      <th>134043</th>\n      <td>0.949998</td>\n      <td>0.907981</td>\n      <td>0.851240</td>\n      <td>0.752066</td>\n      <td>0.900826</td>\n      <td>0.791304</td>\n      <td>0.771186</td>\n      <td>[[218, 24], [30, 91]]</td>\n      <td>0.96</td>\n    </tr>\n    <tr>\n      <th>121504</th>\n      <td>0.949997</td>\n      <td>0.911772</td>\n      <td>0.862259</td>\n      <td>0.768595</td>\n      <td>0.909091</td>\n      <td>0.808696</td>\n      <td>0.788136</td>\n      <td>[[220, 22], [28, 93]]</td>\n      <td>0.96</td>\n    </tr>\n    <tr>\n      <th>32896</th>\n      <td>0.949984</td>\n      <td>0.910030</td>\n      <td>0.856749</td>\n      <td>0.752066</td>\n      <td>0.909091</td>\n      <td>0.805310</td>\n      <td>0.777778</td>\n      <td>[[220, 22], [30, 91]]</td>\n      <td>0.96</td>\n    </tr>\n    <tr>\n      <th>37931</th>\n      <td>0.949977</td>\n      <td>0.909791</td>\n      <td>0.842975</td>\n      <td>0.768595</td>\n      <td>0.880165</td>\n      <td>0.762295</td>\n      <td>0.765432</td>\n      <td>[[213, 29], [28, 93]]</td>\n      <td>0.96</td>\n    </tr>\n    <tr>\n      <th>29227</th>\n      <td>0.949958</td>\n      <td>0.913616</td>\n      <td>0.865014</td>\n      <td>0.776860</td>\n      <td>0.909091</td>\n      <td>0.810345</td>\n      <td>0.793249</td>\n      <td>[[220, 22], [27, 94]]</td>\n      <td>0.96</td>\n    </tr>\n    <tr>\n      <th>71891</th>\n      <td>0.949955</td>\n      <td>0.911055</td>\n      <td>0.862259</td>\n      <td>0.760331</td>\n      <td>0.913223</td>\n      <td>0.814159</td>\n      <td>0.786325</td>\n      <td>[[221, 21], [29, 92]]</td>\n      <td>0.96</td>\n    </tr>\n    <tr>\n      <th>34496</th>\n      <td>0.949949</td>\n      <td>0.911789</td>\n      <td>0.853994</td>\n      <td>0.752066</td>\n      <td>0.904959</td>\n      <td>0.798246</td>\n      <td>0.774468</td>\n      <td>[[219, 23], [30, 91]]</td>\n      <td>0.96</td>\n    </tr>\n    <tr>\n      <th>92878</th>\n      <td>0.949949</td>\n      <td>0.909996</td>\n      <td>0.856749</td>\n      <td>0.752066</td>\n      <td>0.909091</td>\n      <td>0.805310</td>\n      <td>0.777778</td>\n      <td>[[220, 22], [30, 91]]</td>\n      <td>0.96</td>\n    </tr>\n    <tr>\n      <th>58370</th>\n      <td>0.949948</td>\n      <td>0.912079</td>\n      <td>0.859504</td>\n      <td>0.768595</td>\n      <td>0.904959</td>\n      <td>0.801724</td>\n      <td>0.784810</td>\n      <td>[[219, 23], [28, 93]]</td>\n      <td>0.96</td>\n    </tr>\n  </tbody>\n</table>\n</div>"
     },
     "execution_count": 72,
     "metadata": {},
     "output_type": "execute_result"
    }
   ],
   "source": [
    "# Filtrar auc_score_train < limit_sup\n",
    "df_score = df.copy()\n",
    "df_score = df.drop(columns=['n_estimators', 'min_samples_split', 'min_samples_leaf', 'max_features', 'max_leaf_nodes', 'oob_score', 'max_samples',\n",
    "                            'criterion','accuracy_score_train', 'sens_score_train',  'spec_score_train',  'prec_score_train',  'confusion_m_train',  'time'])\n",
    "df_score['ratio'] = round(df_score.auc_score_test / df_score.auc_score_train, 2)\n",
    "df_score = df_score.sort_values(by=['ratio', 'auc_score_train'], ascending=False)\n",
    "df_score = df_score[df_score['auc_score_train'] <= 0.95]\n",
    "df_score = df_score[df_score['sens_score_test'] >= 0.75]\n",
    "df_score.head(10)"
   ],
   "metadata": {
    "collapsed": false,
    "pycharm": {
     "name": "#%%\n"
    }
   }
  },
  {
   "cell_type": "code",
   "execution_count": 73,
   "outputs": [
    {
     "data": {
      "text/plain": "        n_estimators  min_samples_split  min_samples_leaf max_features  \\\n102789            60                  4                10          0.8   \n134043           120                  2                10          0.8   \n121504            80                  6                10          0.9   \n32896            200                  8                10          1.0   \n37931             60                  4                10          1.0   \n29227             80                  2                10          1.0   \n71891            200                  4                10          0.9   \n34496            160                  6                10          0.7   \n92878            180                  2                10          1.0   \n58370            200                  6                10          0.9   \n\n        max_leaf_nodes  oob_score  max_samples criterion  auc_score_train  \\\n102789              40       True          0.8      gini         0.948871   \n134043             180       True          0.8      gini         0.949998   \n121504             200       True          0.8      gini         0.949997   \n32896               40       True          0.8      gini         0.949984   \n37931               60       True          0.9      gini         0.949977   \n29227               80       True          0.8      gini         0.949958   \n71891              180       True          0.8      gini         0.949955   \n34496              120       True          0.8      gini         0.949949   \n92878              100       True          0.8      gini         0.949949   \n58370               40      False          0.8      gini         0.949948   \n\n        accuracy_score_train  ...  prec_score_train        confusion_m_train  \\\n102789              0.880854  ...          0.854214  [[904, 64], [109, 375]]   \n134043              0.887052  ...          0.860360  [[906, 62], [102, 382]]   \n121504              0.884298  ...          0.855856  [[904, 64], [104, 380]]   \n32896               0.882231  ...          0.858124  [[906, 62], [109, 375]]   \n37931               0.881543  ...          0.840611   [[895, 73], [99, 385]]   \n29227               0.882920  ...          0.850446  [[901, 67], [103, 381]]   \n71891               0.882231  ...          0.854875  [[904, 64], [107, 377]]   \n34496               0.889807  ...          0.875000  [[914, 54], [106, 378]]   \n92878               0.881543  ...          0.846667  [[899, 69], [103, 381]]   \n58370               0.883609  ...          0.855530  [[904, 64], [105, 379]]   \n\n        auc_score_test accuracy_score_test  sens_score_test  spec_score_test  \\\n102789        0.916519            0.856749         0.752066         0.909091   \n134043        0.907981            0.851240         0.752066         0.900826   \n121504        0.911772            0.862259         0.768595         0.909091   \n32896         0.910030            0.856749         0.752066         0.909091   \n37931         0.909791            0.842975         0.768595         0.880165   \n29227         0.913616            0.865014         0.776860         0.909091   \n71891         0.911055            0.862259         0.760331         0.913223   \n34496         0.911789            0.853994         0.752066         0.904959   \n92878         0.909996            0.856749         0.752066         0.909091   \n58370         0.912079            0.859504         0.768595         0.904959   \n\n        prec_score_test  f1_score_test       confusion_m_test   time  \n102789         0.805310       0.777778  [[220, 22], [30, 91]]   3.66  \n134043         0.791304       0.771186  [[218, 24], [30, 91]]   6.87  \n121504         0.808696       0.788136  [[220, 22], [28, 93]]   5.00  \n32896          0.805310       0.777778  [[220, 22], [30, 91]]  12.56  \n37931          0.762295       0.765432  [[213, 29], [28, 93]]   4.33  \n29227          0.810345       0.793249  [[220, 22], [27, 94]]   5.45  \n71891          0.814159       0.786325  [[221, 21], [29, 92]]  11.68  \n34496          0.798246       0.774468  [[219, 23], [30, 91]]   8.36  \n92878          0.805310       0.777778  [[220, 22], [30, 91]]  11.25  \n58370          0.801724       0.784810  [[219, 23], [28, 93]]  10.87  \n\n[10 rows x 22 columns]",
      "text/html": "<div>\n<style scoped>\n    .dataframe tbody tr th:only-of-type {\n        vertical-align: middle;\n    }\n\n    .dataframe tbody tr th {\n        vertical-align: top;\n    }\n\n    .dataframe thead th {\n        text-align: right;\n    }\n</style>\n<table border=\"1\" class=\"dataframe\">\n  <thead>\n    <tr style=\"text-align: right;\">\n      <th></th>\n      <th>n_estimators</th>\n      <th>min_samples_split</th>\n      <th>min_samples_leaf</th>\n      <th>max_features</th>\n      <th>max_leaf_nodes</th>\n      <th>oob_score</th>\n      <th>max_samples</th>\n      <th>criterion</th>\n      <th>auc_score_train</th>\n      <th>accuracy_score_train</th>\n      <th>...</th>\n      <th>prec_score_train</th>\n      <th>confusion_m_train</th>\n      <th>auc_score_test</th>\n      <th>accuracy_score_test</th>\n      <th>sens_score_test</th>\n      <th>spec_score_test</th>\n      <th>prec_score_test</th>\n      <th>f1_score_test</th>\n      <th>confusion_m_test</th>\n      <th>time</th>\n    </tr>\n  </thead>\n  <tbody>\n    <tr>\n      <th>102789</th>\n      <td>60</td>\n      <td>4</td>\n      <td>10</td>\n      <td>0.8</td>\n      <td>40</td>\n      <td>True</td>\n      <td>0.8</td>\n      <td>gini</td>\n      <td>0.948871</td>\n      <td>0.880854</td>\n      <td>...</td>\n      <td>0.854214</td>\n      <td>[[904, 64], [109, 375]]</td>\n      <td>0.916519</td>\n      <td>0.856749</td>\n      <td>0.752066</td>\n      <td>0.909091</td>\n      <td>0.805310</td>\n      <td>0.777778</td>\n      <td>[[220, 22], [30, 91]]</td>\n      <td>3.66</td>\n    </tr>\n    <tr>\n      <th>134043</th>\n      <td>120</td>\n      <td>2</td>\n      <td>10</td>\n      <td>0.8</td>\n      <td>180</td>\n      <td>True</td>\n      <td>0.8</td>\n      <td>gini</td>\n      <td>0.949998</td>\n      <td>0.887052</td>\n      <td>...</td>\n      <td>0.860360</td>\n      <td>[[906, 62], [102, 382]]</td>\n      <td>0.907981</td>\n      <td>0.851240</td>\n      <td>0.752066</td>\n      <td>0.900826</td>\n      <td>0.791304</td>\n      <td>0.771186</td>\n      <td>[[218, 24], [30, 91]]</td>\n      <td>6.87</td>\n    </tr>\n    <tr>\n      <th>121504</th>\n      <td>80</td>\n      <td>6</td>\n      <td>10</td>\n      <td>0.9</td>\n      <td>200</td>\n      <td>True</td>\n      <td>0.8</td>\n      <td>gini</td>\n      <td>0.949997</td>\n      <td>0.884298</td>\n      <td>...</td>\n      <td>0.855856</td>\n      <td>[[904, 64], [104, 380]]</td>\n      <td>0.911772</td>\n      <td>0.862259</td>\n      <td>0.768595</td>\n      <td>0.909091</td>\n      <td>0.808696</td>\n      <td>0.788136</td>\n      <td>[[220, 22], [28, 93]]</td>\n      <td>5.00</td>\n    </tr>\n    <tr>\n      <th>32896</th>\n      <td>200</td>\n      <td>8</td>\n      <td>10</td>\n      <td>1.0</td>\n      <td>40</td>\n      <td>True</td>\n      <td>0.8</td>\n      <td>gini</td>\n      <td>0.949984</td>\n      <td>0.882231</td>\n      <td>...</td>\n      <td>0.858124</td>\n      <td>[[906, 62], [109, 375]]</td>\n      <td>0.910030</td>\n      <td>0.856749</td>\n      <td>0.752066</td>\n      <td>0.909091</td>\n      <td>0.805310</td>\n      <td>0.777778</td>\n      <td>[[220, 22], [30, 91]]</td>\n      <td>12.56</td>\n    </tr>\n    <tr>\n      <th>37931</th>\n      <td>60</td>\n      <td>4</td>\n      <td>10</td>\n      <td>1.0</td>\n      <td>60</td>\n      <td>True</td>\n      <td>0.9</td>\n      <td>gini</td>\n      <td>0.949977</td>\n      <td>0.881543</td>\n      <td>...</td>\n      <td>0.840611</td>\n      <td>[[895, 73], [99, 385]]</td>\n      <td>0.909791</td>\n      <td>0.842975</td>\n      <td>0.768595</td>\n      <td>0.880165</td>\n      <td>0.762295</td>\n      <td>0.765432</td>\n      <td>[[213, 29], [28, 93]]</td>\n      <td>4.33</td>\n    </tr>\n    <tr>\n      <th>29227</th>\n      <td>80</td>\n      <td>2</td>\n      <td>10</td>\n      <td>1.0</td>\n      <td>80</td>\n      <td>True</td>\n      <td>0.8</td>\n      <td>gini</td>\n      <td>0.949958</td>\n      <td>0.882920</td>\n      <td>...</td>\n      <td>0.850446</td>\n      <td>[[901, 67], [103, 381]]</td>\n      <td>0.913616</td>\n      <td>0.865014</td>\n      <td>0.776860</td>\n      <td>0.909091</td>\n      <td>0.810345</td>\n      <td>0.793249</td>\n      <td>[[220, 22], [27, 94]]</td>\n      <td>5.45</td>\n    </tr>\n    <tr>\n      <th>71891</th>\n      <td>200</td>\n      <td>4</td>\n      <td>10</td>\n      <td>0.9</td>\n      <td>180</td>\n      <td>True</td>\n      <td>0.8</td>\n      <td>gini</td>\n      <td>0.949955</td>\n      <td>0.882231</td>\n      <td>...</td>\n      <td>0.854875</td>\n      <td>[[904, 64], [107, 377]]</td>\n      <td>0.911055</td>\n      <td>0.862259</td>\n      <td>0.760331</td>\n      <td>0.913223</td>\n      <td>0.814159</td>\n      <td>0.786325</td>\n      <td>[[221, 21], [29, 92]]</td>\n      <td>11.68</td>\n    </tr>\n    <tr>\n      <th>34496</th>\n      <td>160</td>\n      <td>6</td>\n      <td>10</td>\n      <td>0.7</td>\n      <td>120</td>\n      <td>True</td>\n      <td>0.8</td>\n      <td>gini</td>\n      <td>0.949949</td>\n      <td>0.889807</td>\n      <td>...</td>\n      <td>0.875000</td>\n      <td>[[914, 54], [106, 378]]</td>\n      <td>0.911789</td>\n      <td>0.853994</td>\n      <td>0.752066</td>\n      <td>0.904959</td>\n      <td>0.798246</td>\n      <td>0.774468</td>\n      <td>[[219, 23], [30, 91]]</td>\n      <td>8.36</td>\n    </tr>\n    <tr>\n      <th>92878</th>\n      <td>180</td>\n      <td>2</td>\n      <td>10</td>\n      <td>1.0</td>\n      <td>100</td>\n      <td>True</td>\n      <td>0.8</td>\n      <td>gini</td>\n      <td>0.949949</td>\n      <td>0.881543</td>\n      <td>...</td>\n      <td>0.846667</td>\n      <td>[[899, 69], [103, 381]]</td>\n      <td>0.909996</td>\n      <td>0.856749</td>\n      <td>0.752066</td>\n      <td>0.909091</td>\n      <td>0.805310</td>\n      <td>0.777778</td>\n      <td>[[220, 22], [30, 91]]</td>\n      <td>11.25</td>\n    </tr>\n    <tr>\n      <th>58370</th>\n      <td>200</td>\n      <td>6</td>\n      <td>10</td>\n      <td>0.9</td>\n      <td>40</td>\n      <td>False</td>\n      <td>0.8</td>\n      <td>gini</td>\n      <td>0.949948</td>\n      <td>0.883609</td>\n      <td>...</td>\n      <td>0.855530</td>\n      <td>[[904, 64], [105, 379]]</td>\n      <td>0.912079</td>\n      <td>0.859504</td>\n      <td>0.768595</td>\n      <td>0.904959</td>\n      <td>0.801724</td>\n      <td>0.784810</td>\n      <td>[[219, 23], [28, 93]]</td>\n      <td>10.87</td>\n    </tr>\n  </tbody>\n</table>\n<p>10 rows × 22 columns</p>\n</div>"
     },
     "execution_count": 73,
     "metadata": {},
     "output_type": "execute_result"
    }
   ],
   "source": [
    "top10 = list(df_score[df_score['sens_score_test'] >= 0.75].iloc[:10].index)\n",
    "df.iloc[top10]"
   ],
   "metadata": {
    "collapsed": false,
    "pycharm": {
     "name": "#%%\n"
    }
   }
  },
  {
   "cell_type": "code",
   "execution_count": 79,
   "outputs": [
    {
     "name": "stdout",
     "output_type": "stream",
     "text": [
      "{'n_estimators': 60, 'min_samples_split': 4, 'min_samples_leaf': 10, 'max_features': '0.8', 'max_leaf_nodes': 40, 'oob_score': True, 'max_samples': 0.8, 'criterion': 'gini'}\n"
     ]
    }
   ],
   "source": [
    "lista_parametros = dict(df.iloc[top10[0]][['n_estimators', 'min_samples_split', 'min_samples_leaf', 'max_features', 'max_leaf_nodes', 'oob_score', 'max_samples', 'criterion']])\n",
    "print(lista_parametros)"
   ],
   "metadata": {
    "collapsed": false,
    "pycharm": {
     "name": "#%%\n"
    }
   }
  }
 ],
 "metadata": {
  "kernelspec": {
   "display_name": "Python 3",
   "language": "python",
   "name": "python3"
  },
  "language_info": {
   "codemirror_mode": {
    "name": "ipython",
    "version": 2
   },
   "file_extension": ".py",
   "mimetype": "text/x-python",
   "name": "python",
   "nbconvert_exporter": "python",
   "pygments_lexer": "ipython2",
   "version": "2.7.6"
  }
 },
 "nbformat": 4,
 "nbformat_minor": 0
}