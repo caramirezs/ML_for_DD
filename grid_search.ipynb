{
 "cells": [
  {
   "cell_type": "code",
   "execution_count": 2,
   "metadata": {
    "collapsed": true,
    "pycharm": {
     "name": "#%%\n"
    }
   },
   "outputs": [],
   "source": [
    "from lib.main_func_p1 import path\n",
    "import pandas as pd"
   ]
  },
  {
   "cell_type": "code",
   "execution_count": 50,
   "outputs": [],
   "source": [
    "uniprot_data = ['P49841', 'kinase']\n",
    "# uniprot_data = ['P22303', 'Non-IDG Family Targets']\n",
    "uniprot_id = uniprot_data[0]\n",
    "path_file = path(uniprot_id)"
   ],
   "metadata": {
    "collapsed": false,
    "pycharm": {
     "name": "#%%\n"
    }
   }
  },
  {
   "cell_type": "code",
   "execution_count": 99,
   "outputs": [
    {
     "data": {
      "text/plain": "   n_estimators  min_samples_split  min_samples_leaf max_features  \\\n0           100                  4                20         auto   \n1           100                  8                10         auto   \n2            80                  8                15          0.6   \n3            60                  8                20          0.8   \n4            60                  2                25          1.0   \n\n   max_leaf_nodes  oob_score  max_samples criterion  auc_score_train  \\\n0             160      False          0.7   entropy         0.892216   \n1             120      False          NaN   entropy         0.944381   \n2             180      False          0.7   entropy         0.929892   \n3              60       True          NaN   entropy         0.921683   \n4             180      False          NaN   entropy         0.909414   \n\n   accuracy_score_train  ...  prec_score_train        confusion_m_train  \\\n0              0.790383  ...          0.872727  [[812, 35], [244, 240]]   \n1              0.854996  ...          0.892183  [[807, 40], [153, 331]]   \n2              0.850488  ...          0.832168  [[775, 72], [127, 357]]   \n3              0.842224  ...          0.812785  [[765, 82], [128, 356]]   \n4              0.824944  ...          0.780761  [[749, 98], [135, 349]]   \n\n   auc_score_test accuracy_score_test  sens_score_test  spec_score_test  \\\n0        0.852312            0.762763         0.504132         0.910377   \n1        0.904959            0.837838         0.685950         0.924528   \n2        0.894355            0.819820         0.735537         0.867925   \n3        0.885954            0.801802         0.727273         0.844340   \n4        0.877612            0.798799         0.727273         0.839623   \n\n   prec_score_test  f1_score_test       confusion_m_test  time  \n0         0.762500       0.606965  [[193, 19], [60, 61]]  4.77  \n1         0.838384       0.754545  [[196, 16], [38, 83]]  5.30  \n2         0.760684       0.747899  [[184, 28], [32, 89]]  6.69  \n3         0.727273       0.727273  [[179, 33], [33, 88]]  6.90  \n4         0.721311       0.724280  [[178, 34], [33, 88]]  7.45  \n\n[5 rows x 22 columns]",
      "text/html": "<div>\n<style scoped>\n    .dataframe tbody tr th:only-of-type {\n        vertical-align: middle;\n    }\n\n    .dataframe tbody tr th {\n        vertical-align: top;\n    }\n\n    .dataframe thead th {\n        text-align: right;\n    }\n</style>\n<table border=\"1\" class=\"dataframe\">\n  <thead>\n    <tr style=\"text-align: right;\">\n      <th></th>\n      <th>n_estimators</th>\n      <th>min_samples_split</th>\n      <th>min_samples_leaf</th>\n      <th>max_features</th>\n      <th>max_leaf_nodes</th>\n      <th>oob_score</th>\n      <th>max_samples</th>\n      <th>criterion</th>\n      <th>auc_score_train</th>\n      <th>accuracy_score_train</th>\n      <th>...</th>\n      <th>prec_score_train</th>\n      <th>confusion_m_train</th>\n      <th>auc_score_test</th>\n      <th>accuracy_score_test</th>\n      <th>sens_score_test</th>\n      <th>spec_score_test</th>\n      <th>prec_score_test</th>\n      <th>f1_score_test</th>\n      <th>confusion_m_test</th>\n      <th>time</th>\n    </tr>\n  </thead>\n  <tbody>\n    <tr>\n      <th>0</th>\n      <td>100</td>\n      <td>4</td>\n      <td>20</td>\n      <td>auto</td>\n      <td>160</td>\n      <td>False</td>\n      <td>0.7</td>\n      <td>entropy</td>\n      <td>0.892216</td>\n      <td>0.790383</td>\n      <td>...</td>\n      <td>0.872727</td>\n      <td>[[812, 35], [244, 240]]</td>\n      <td>0.852312</td>\n      <td>0.762763</td>\n      <td>0.504132</td>\n      <td>0.910377</td>\n      <td>0.762500</td>\n      <td>0.606965</td>\n      <td>[[193, 19], [60, 61]]</td>\n      <td>4.77</td>\n    </tr>\n    <tr>\n      <th>1</th>\n      <td>100</td>\n      <td>8</td>\n      <td>10</td>\n      <td>auto</td>\n      <td>120</td>\n      <td>False</td>\n      <td>NaN</td>\n      <td>entropy</td>\n      <td>0.944381</td>\n      <td>0.854996</td>\n      <td>...</td>\n      <td>0.892183</td>\n      <td>[[807, 40], [153, 331]]</td>\n      <td>0.904959</td>\n      <td>0.837838</td>\n      <td>0.685950</td>\n      <td>0.924528</td>\n      <td>0.838384</td>\n      <td>0.754545</td>\n      <td>[[196, 16], [38, 83]]</td>\n      <td>5.30</td>\n    </tr>\n    <tr>\n      <th>2</th>\n      <td>80</td>\n      <td>8</td>\n      <td>15</td>\n      <td>0.6</td>\n      <td>180</td>\n      <td>False</td>\n      <td>0.7</td>\n      <td>entropy</td>\n      <td>0.929892</td>\n      <td>0.850488</td>\n      <td>...</td>\n      <td>0.832168</td>\n      <td>[[775, 72], [127, 357]]</td>\n      <td>0.894355</td>\n      <td>0.819820</td>\n      <td>0.735537</td>\n      <td>0.867925</td>\n      <td>0.760684</td>\n      <td>0.747899</td>\n      <td>[[184, 28], [32, 89]]</td>\n      <td>6.69</td>\n    </tr>\n    <tr>\n      <th>3</th>\n      <td>60</td>\n      <td>8</td>\n      <td>20</td>\n      <td>0.8</td>\n      <td>60</td>\n      <td>True</td>\n      <td>NaN</td>\n      <td>entropy</td>\n      <td>0.921683</td>\n      <td>0.842224</td>\n      <td>...</td>\n      <td>0.812785</td>\n      <td>[[765, 82], [128, 356]]</td>\n      <td>0.885954</td>\n      <td>0.801802</td>\n      <td>0.727273</td>\n      <td>0.844340</td>\n      <td>0.727273</td>\n      <td>0.727273</td>\n      <td>[[179, 33], [33, 88]]</td>\n      <td>6.90</td>\n    </tr>\n    <tr>\n      <th>4</th>\n      <td>60</td>\n      <td>2</td>\n      <td>25</td>\n      <td>1.0</td>\n      <td>180</td>\n      <td>False</td>\n      <td>NaN</td>\n      <td>entropy</td>\n      <td>0.909414</td>\n      <td>0.824944</td>\n      <td>...</td>\n      <td>0.780761</td>\n      <td>[[749, 98], [135, 349]]</td>\n      <td>0.877612</td>\n      <td>0.798799</td>\n      <td>0.727273</td>\n      <td>0.839623</td>\n      <td>0.721311</td>\n      <td>0.724280</td>\n      <td>[[178, 34], [33, 88]]</td>\n      <td>7.45</td>\n    </tr>\n  </tbody>\n</table>\n<p>5 rows × 22 columns</p>\n</div>"
     },
     "execution_count": 99,
     "metadata": {},
     "output_type": "execute_result"
    }
   ],
   "source": [
    "fingerprint = 'maccs'\n",
    "n_splits = 10\n",
    "resample_factor = 1.75\n",
    "name_grid_file = f'{path_file}_RFgrid_{fingerprint}_s{n_splits}_r{resample_factor}.csv'\n",
    "\n",
    "df = pd.read_csv(name_grid_file)\n",
    "df.head()"
   ],
   "metadata": {
    "collapsed": false,
    "pycharm": {
     "name": "#%%\n"
    }
   }
  },
  {
   "cell_type": "code",
   "execution_count": 102,
   "outputs": [
    {
     "name": "stdout",
     "output_type": "stream",
     "text": [
      "        auc_score_train  auc_score_test\n",
      "108060         0.941028        0.908799\n",
      "20362          0.939953        0.908877\n",
      "86902          0.939323        0.908292\n",
      "51514          0.939031        0.907551\n",
      "19863          0.939013        0.908019\n",
      "61118          0.938493        0.905758\n",
      "95745          0.938384        0.906849\n",
      "98673          0.938014        0.905797\n",
      "3335           0.937915        0.905387\n",
      "39470          0.937893        0.906167\n"
     ]
    },
    {
     "data": {
      "text/plain": "        n_estimators  min_samples_split  min_samples_leaf max_features  \\\n108060            80                  8                15          0.6   \n20362             60                  8                15          0.7   \n86902             80                  4                15          0.7   \n51514             60                  8                15          0.7   \n19863             80                  8                15          0.6   \n61118            100                  6                15          0.7   \n95745            100                  4                15          0.7   \n98673             60                  6                15          0.7   \n3335             140                  8                15          0.7   \n39470            120                  6                15          0.7   \n\n        max_leaf_nodes  oob_score  max_samples criterion  auc_score_train  \\\n108060             160       True          NaN   entropy         0.941028   \n20362              140       True          NaN   entropy         0.939953   \n86902              100      False          NaN   entropy         0.939323   \n51514              160      False          NaN      gini         0.939031   \n19863              200       True          NaN      gini         0.939013   \n61118              160       True          0.9   entropy         0.938493   \n95745              180      False          NaN      gini         0.938384   \n98673              140       True          0.9   entropy         0.938014   \n3335                60      False          NaN      gini         0.937915   \n39470               40       True          NaN      gini         0.937893   \n\n        accuracy_score_train  ...  prec_score_train        confusion_m_train  \\\n108060              0.857250  ...          0.838710  [[777, 70], [120, 364]]   \n20362               0.865515  ...          0.841163  [[776, 71], [108, 376]]   \n86902               0.858753  ...          0.833333  [[773, 74], [114, 370]]   \n51514               0.863261  ...          0.843182  [[778, 69], [113, 371]]   \n19863               0.864012  ...          0.849885  [[782, 65], [116, 368]]   \n61118               0.864763  ...          0.850230  [[782, 65], [115, 369]]   \n95745               0.863261  ...          0.846330  [[780, 67], [115, 369]]   \n98673               0.862509  ...          0.841270  [[777, 70], [113, 371]]   \n3335                0.860255  ...          0.843318  [[779, 68], [118, 366]]   \n39470               0.861007  ...          0.839002  [[776, 71], [114, 370]]   \n\n        auc_score_test accuracy_score_test  sens_score_test  spec_score_test  \\\n108060        0.908799            0.831832         0.768595         0.867925   \n20362         0.908877            0.825826         0.752066         0.867925   \n86902         0.908292            0.825826         0.752066         0.867925   \n51514         0.907551            0.828829         0.760331         0.867925   \n19863         0.908019            0.840841         0.768595         0.882075   \n61118         0.905758            0.825826         0.752066         0.867925   \n95745         0.906849            0.834835         0.760331         0.877358   \n98673         0.905797            0.828829         0.752066         0.872642   \n3335          0.905387            0.834835         0.760331         0.877358   \n39470         0.906167            0.825826         0.760331         0.863208   \n\n        prec_score_test  f1_score_test       confusion_m_test   time  \n108060         0.768595       0.768595  [[184, 28], [28, 93]]   8.89  \n20362          0.764706       0.758333  [[184, 28], [30, 91]]   7.36  \n86902          0.764706       0.758333  [[184, 28], [30, 91]]   8.73  \n51514          0.766667       0.763485  [[184, 28], [29, 92]]   6.74  \n19863          0.788136       0.778243  [[187, 25], [28, 93]]   8.56  \n61118          0.764706       0.758333  [[184, 28], [30, 91]]  11.10  \n95745          0.779661       0.769874  [[186, 26], [29, 92]]  10.53  \n98673          0.771186       0.761506  [[185, 27], [30, 91]]   7.05  \n3335           0.779661       0.769874  [[186, 26], [29, 92]]  14.22  \n39470          0.760331       0.760331  [[183, 29], [29, 92]]  13.52  \n\n[10 rows x 22 columns]",
      "text/html": "<div>\n<style scoped>\n    .dataframe tbody tr th:only-of-type {\n        vertical-align: middle;\n    }\n\n    .dataframe tbody tr th {\n        vertical-align: top;\n    }\n\n    .dataframe thead th {\n        text-align: right;\n    }\n</style>\n<table border=\"1\" class=\"dataframe\">\n  <thead>\n    <tr style=\"text-align: right;\">\n      <th></th>\n      <th>n_estimators</th>\n      <th>min_samples_split</th>\n      <th>min_samples_leaf</th>\n      <th>max_features</th>\n      <th>max_leaf_nodes</th>\n      <th>oob_score</th>\n      <th>max_samples</th>\n      <th>criterion</th>\n      <th>auc_score_train</th>\n      <th>accuracy_score_train</th>\n      <th>...</th>\n      <th>prec_score_train</th>\n      <th>confusion_m_train</th>\n      <th>auc_score_test</th>\n      <th>accuracy_score_test</th>\n      <th>sens_score_test</th>\n      <th>spec_score_test</th>\n      <th>prec_score_test</th>\n      <th>f1_score_test</th>\n      <th>confusion_m_test</th>\n      <th>time</th>\n    </tr>\n  </thead>\n  <tbody>\n    <tr>\n      <th>108060</th>\n      <td>80</td>\n      <td>8</td>\n      <td>15</td>\n      <td>0.6</td>\n      <td>160</td>\n      <td>True</td>\n      <td>NaN</td>\n      <td>entropy</td>\n      <td>0.941028</td>\n      <td>0.857250</td>\n      <td>...</td>\n      <td>0.838710</td>\n      <td>[[777, 70], [120, 364]]</td>\n      <td>0.908799</td>\n      <td>0.831832</td>\n      <td>0.768595</td>\n      <td>0.867925</td>\n      <td>0.768595</td>\n      <td>0.768595</td>\n      <td>[[184, 28], [28, 93]]</td>\n      <td>8.89</td>\n    </tr>\n    <tr>\n      <th>20362</th>\n      <td>60</td>\n      <td>8</td>\n      <td>15</td>\n      <td>0.7</td>\n      <td>140</td>\n      <td>True</td>\n      <td>NaN</td>\n      <td>entropy</td>\n      <td>0.939953</td>\n      <td>0.865515</td>\n      <td>...</td>\n      <td>0.841163</td>\n      <td>[[776, 71], [108, 376]]</td>\n      <td>0.908877</td>\n      <td>0.825826</td>\n      <td>0.752066</td>\n      <td>0.867925</td>\n      <td>0.764706</td>\n      <td>0.758333</td>\n      <td>[[184, 28], [30, 91]]</td>\n      <td>7.36</td>\n    </tr>\n    <tr>\n      <th>86902</th>\n      <td>80</td>\n      <td>4</td>\n      <td>15</td>\n      <td>0.7</td>\n      <td>100</td>\n      <td>False</td>\n      <td>NaN</td>\n      <td>entropy</td>\n      <td>0.939323</td>\n      <td>0.858753</td>\n      <td>...</td>\n      <td>0.833333</td>\n      <td>[[773, 74], [114, 370]]</td>\n      <td>0.908292</td>\n      <td>0.825826</td>\n      <td>0.752066</td>\n      <td>0.867925</td>\n      <td>0.764706</td>\n      <td>0.758333</td>\n      <td>[[184, 28], [30, 91]]</td>\n      <td>8.73</td>\n    </tr>\n    <tr>\n      <th>51514</th>\n      <td>60</td>\n      <td>8</td>\n      <td>15</td>\n      <td>0.7</td>\n      <td>160</td>\n      <td>False</td>\n      <td>NaN</td>\n      <td>gini</td>\n      <td>0.939031</td>\n      <td>0.863261</td>\n      <td>...</td>\n      <td>0.843182</td>\n      <td>[[778, 69], [113, 371]]</td>\n      <td>0.907551</td>\n      <td>0.828829</td>\n      <td>0.760331</td>\n      <td>0.867925</td>\n      <td>0.766667</td>\n      <td>0.763485</td>\n      <td>[[184, 28], [29, 92]]</td>\n      <td>6.74</td>\n    </tr>\n    <tr>\n      <th>19863</th>\n      <td>80</td>\n      <td>8</td>\n      <td>15</td>\n      <td>0.6</td>\n      <td>200</td>\n      <td>True</td>\n      <td>NaN</td>\n      <td>gini</td>\n      <td>0.939013</td>\n      <td>0.864012</td>\n      <td>...</td>\n      <td>0.849885</td>\n      <td>[[782, 65], [116, 368]]</td>\n      <td>0.908019</td>\n      <td>0.840841</td>\n      <td>0.768595</td>\n      <td>0.882075</td>\n      <td>0.788136</td>\n      <td>0.778243</td>\n      <td>[[187, 25], [28, 93]]</td>\n      <td>8.56</td>\n    </tr>\n    <tr>\n      <th>61118</th>\n      <td>100</td>\n      <td>6</td>\n      <td>15</td>\n      <td>0.7</td>\n      <td>160</td>\n      <td>True</td>\n      <td>0.9</td>\n      <td>entropy</td>\n      <td>0.938493</td>\n      <td>0.864763</td>\n      <td>...</td>\n      <td>0.850230</td>\n      <td>[[782, 65], [115, 369]]</td>\n      <td>0.905758</td>\n      <td>0.825826</td>\n      <td>0.752066</td>\n      <td>0.867925</td>\n      <td>0.764706</td>\n      <td>0.758333</td>\n      <td>[[184, 28], [30, 91]]</td>\n      <td>11.10</td>\n    </tr>\n    <tr>\n      <th>95745</th>\n      <td>100</td>\n      <td>4</td>\n      <td>15</td>\n      <td>0.7</td>\n      <td>180</td>\n      <td>False</td>\n      <td>NaN</td>\n      <td>gini</td>\n      <td>0.938384</td>\n      <td>0.863261</td>\n      <td>...</td>\n      <td>0.846330</td>\n      <td>[[780, 67], [115, 369]]</td>\n      <td>0.906849</td>\n      <td>0.834835</td>\n      <td>0.760331</td>\n      <td>0.877358</td>\n      <td>0.779661</td>\n      <td>0.769874</td>\n      <td>[[186, 26], [29, 92]]</td>\n      <td>10.53</td>\n    </tr>\n    <tr>\n      <th>98673</th>\n      <td>60</td>\n      <td>6</td>\n      <td>15</td>\n      <td>0.7</td>\n      <td>140</td>\n      <td>True</td>\n      <td>0.9</td>\n      <td>entropy</td>\n      <td>0.938014</td>\n      <td>0.862509</td>\n      <td>...</td>\n      <td>0.841270</td>\n      <td>[[777, 70], [113, 371]]</td>\n      <td>0.905797</td>\n      <td>0.828829</td>\n      <td>0.752066</td>\n      <td>0.872642</td>\n      <td>0.771186</td>\n      <td>0.761506</td>\n      <td>[[185, 27], [30, 91]]</td>\n      <td>7.05</td>\n    </tr>\n    <tr>\n      <th>3335</th>\n      <td>140</td>\n      <td>8</td>\n      <td>15</td>\n      <td>0.7</td>\n      <td>60</td>\n      <td>False</td>\n      <td>NaN</td>\n      <td>gini</td>\n      <td>0.937915</td>\n      <td>0.860255</td>\n      <td>...</td>\n      <td>0.843318</td>\n      <td>[[779, 68], [118, 366]]</td>\n      <td>0.905387</td>\n      <td>0.834835</td>\n      <td>0.760331</td>\n      <td>0.877358</td>\n      <td>0.779661</td>\n      <td>0.769874</td>\n      <td>[[186, 26], [29, 92]]</td>\n      <td>14.22</td>\n    </tr>\n    <tr>\n      <th>39470</th>\n      <td>120</td>\n      <td>6</td>\n      <td>15</td>\n      <td>0.7</td>\n      <td>40</td>\n      <td>True</td>\n      <td>NaN</td>\n      <td>gini</td>\n      <td>0.937893</td>\n      <td>0.861007</td>\n      <td>...</td>\n      <td>0.839002</td>\n      <td>[[776, 71], [114, 370]]</td>\n      <td>0.906167</td>\n      <td>0.825826</td>\n      <td>0.760331</td>\n      <td>0.863208</td>\n      <td>0.760331</td>\n      <td>0.760331</td>\n      <td>[[183, 29], [29, 92]]</td>\n      <td>13.52</td>\n    </tr>\n  </tbody>\n</table>\n<p>10 rows × 22 columns</p>\n</div>"
     },
     "execution_count": 102,
     "metadata": {},
     "output_type": "execute_result"
    }
   ],
   "source": [
    "# Filtrar auc_score_train < limit_sup\n",
    "df_score = df.copy()\n",
    "df_score = df.drop(columns=['n_estimators', 'min_samples_split', 'min_samples_leaf', 'max_features', 'max_leaf_nodes', 'oob_score', 'max_samples',\n",
    "                            'criterion','accuracy_score_train', 'sens_score_train',  'spec_score_train',  'prec_score_train',  'confusion_m_train',  'time'])\n",
    "df_score['ratio'] = round(df_score.auc_score_test / df_score.auc_score_train, 2)\n",
    "df_score = df_score.sort_values(by=['ratio', 'auc_score_train'], ascending=False)\n",
    "df_score = df_score[df_score['auc_score_train'] <= 0.96]\n",
    "df_score = df_score[df_score['sens_score_test'] >= 0.75]\n",
    "print(df_score[['auc_score_train', 'auc_score_test']].head(10))\n",
    "top10 = list(df_score[df_score['sens_score_test'] >= 0.75].iloc[:10].index)\n",
    "df.iloc[top10]"
   ],
   "metadata": {
    "collapsed": false,
    "pycharm": {
     "name": "#%%\n"
    }
   }
  },
  {
   "cell_type": "code",
   "execution_count": 103,
   "outputs": [
    {
     "name": "stdout",
     "output_type": "stream",
     "text": [
      "{'n_estimators': 80, 'min_samples_split': 8, 'min_samples_leaf': 15, 'max_features': 0.6, 'max_leaf_nodes': 160, 'oob_score': True, 'max_samples': nan, 'criterion': 'entropy'}\n"
     ]
    }
   ],
   "source": [
    "lista_parametros = dict(df.iloc[top10[0]][['n_estimators', 'min_samples_split', 'min_samples_leaf', 'max_features', 'max_leaf_nodes', 'oob_score', 'max_samples', 'criterion']])\n",
    "try:\n",
    "    lista_parametros['max_features'] = float(lista_parametros['max_features'])\n",
    "except:\n",
    "    pass\n",
    "print(lista_parametros)"
   ],
   "metadata": {
    "collapsed": false,
    "pycharm": {
     "name": "#%%\n"
    }
   }
  },
  {
   "cell_type": "code",
   "execution_count": null,
   "outputs": [],
   "source": [],
   "metadata": {
    "collapsed": false,
    "pycharm": {
     "name": "#%%\n"
    }
   }
  }
 ],
 "metadata": {
  "kernelspec": {
   "display_name": "Python 3",
   "language": "python",
   "name": "python3"
  },
  "language_info": {
   "codemirror_mode": {
    "name": "ipython",
    "version": 2
   },
   "file_extension": ".py",
   "mimetype": "text/x-python",
   "name": "python",
   "nbconvert_exporter": "python",
   "pygments_lexer": "ipython2",
   "version": "2.7.6"
  }
 },
 "nbformat": 4,
 "nbformat_minor": 0
}