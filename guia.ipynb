{
 "cells": [
  {
   "cell_type": "code",
   "execution_count": 1,
   "outputs": [],
   "source": [
    "from importlib import reload\n",
    "from lib.main_func_p1 import path\n",
    "\n",
    "import pandas as pd\n",
    "import numpy as np\n",
    "\n",
    "uniprot_data = ['P49841', 'kinase']\n",
    "# uniprot_data = ['P22303', 'Non-IDG Family Targets']\n",
    "uniprot_id = uniprot_data[0]\n",
    "\n",
    "path_file = path(uniprot_id)\n"
   ],
   "metadata": {
    "collapsed": false,
    "pycharm": {
     "name": "#%%\n"
    }
   }
  },
  {
   "cell_type": "code",
   "execution_count": 6,
   "metadata": {
    "collapsed": true
   },
   "outputs": [],
   "source": [
    "import lib.main_func_p1, lib.main_func_p2, lib.main_func_p3\n",
    "reload(lib.main_func_p1)\n",
    "reload(lib.main_func_p2)\n",
    "reload(lib.main_func_p3)\n",
    "\n",
    "from lib.main_func_p1 import get_ligands\n",
    "from lib.main_func_p2 import get_properties_stats, plot_radarplot\n",
    "\n",
    "\n",
    "import matplotlib.pyplot as plt\n",
    "import seaborn as sns\n",
    "\n",
    "path_file = path(uniprot_id)\n",
    "ADME_df = pd.read_csv(f'{path_file}_02_ligands_smiles_ADME_lipinski.csv')\n",
    "activity_df = pd.read_csv(f'{path_file}_03_ligands_smiles_activity_type.csv')"
   ]
  },
  {
   "cell_type": "code",
   "execution_count": 4,
   "outputs": [
    {
     "data": {
      "text/plain": "inactive    1709\nactive       612\nName: activity_type, dtype: int64"
     },
     "execution_count": 4,
     "metadata": {},
     "output_type": "execute_result"
    }
   ],
   "source": [
    "ADME_df.activity_type.value_counts()"
   ],
   "metadata": {
    "collapsed": false,
    "pycharm": {
     "name": "#%%\n"
    }
   }
  }
 ],
 "metadata": {
  "kernelspec": {
   "display_name": "Python 3",
   "language": "python",
   "name": "python3"
  },
  "language_info": {
   "codemirror_mode": {
    "name": "ipython",
    "version": 2
   },
   "file_extension": ".py",
   "mimetype": "text/x-python",
   "name": "python",
   "nbconvert_exporter": "python",
   "pygments_lexer": "ipython2",
   "version": "2.7.6"
  }
 },
 "nbformat": 4,
 "nbformat_minor": 0
}